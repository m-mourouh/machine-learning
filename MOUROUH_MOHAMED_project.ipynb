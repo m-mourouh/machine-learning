{
 "cells": [
  {
   "cell_type": "code",
   "execution_count": 110,
   "id": "2d975eac",
   "metadata": {},
   "outputs": [],
   "source": [
    "#librairires\n",
    "import numpy as np\n",
    "import pandas as pd\n",
    "from sklearn.datasets import make_regression\n",
    "from sklearn.metrics import mean_squared_error\n",
    "from sklearn.metrics import r2_score\n",
    "import matplotlib.pyplot as plt\n",
    "from sklearn.model_selection import learning_curve\n",
    "from sklearn.model_selection import train_test_split\n",
    "from sklearn.linear_model import LinearRegression\n",
    "from sklearn.metrics import mean_squared_error, r2_score\n",
    "from sklearn.linear_model import LogisticRegression\n",
    "from sklearn.metrics import accuracy_score, precision_score, recall_score, f1_score, confusion_matrix\n",
    "import seaborn as sns"
   ]
  },
  {
   "cell_type": "markdown",
   "id": "2be771f5-3266-46a2-97b4-01084aa3e99f",
   "metadata": {},
   "source": [
    "<h1>Projet de régression</h1>"
   ]
  },
  {
   "cell_type": "markdown",
   "id": "68fc3b76",
   "metadata": {},
   "source": [
    "#### a.\tGénérer un dataset synthètique."
   ]
  },
  {
   "cell_type": "code",
   "execution_count": 12,
   "id": "d3bc97d5",
   "metadata": {},
   "outputs": [
    {
     "data": {
      "text/html": [
       "<div>\n",
       "<style scoped>\n",
       "    .dataframe tbody tr th:only-of-type {\n",
       "        vertical-align: middle;\n",
       "    }\n",
       "\n",
       "    .dataframe tbody tr th {\n",
       "        vertical-align: top;\n",
       "    }\n",
       "\n",
       "    .dataframe thead th {\n",
       "        text-align: right;\n",
       "    }\n",
       "</style>\n",
       "<table border=\"1\" class=\"dataframe\">\n",
       "  <thead>\n",
       "    <tr style=\"text-align: right;\">\n",
       "      <th></th>\n",
       "      <th>feature_1</th>\n",
       "      <th>feature_2</th>\n",
       "      <th>feature_3</th>\n",
       "      <th>feature_4</th>\n",
       "      <th>feature_5</th>\n",
       "      <th>target</th>\n",
       "    </tr>\n",
       "  </thead>\n",
       "  <tbody>\n",
       "    <tr>\n",
       "      <th>0</th>\n",
       "      <td>0.496714</td>\n",
       "      <td>0.138264</td>\n",
       "      <td>0.647689</td>\n",
       "      <td>1.523030</td>\n",
       "      <td>0.234153</td>\n",
       "      <td>2.404455</td>\n",
       "    </tr>\n",
       "    <tr>\n",
       "      <th>1</th>\n",
       "      <td>0.234137</td>\n",
       "      <td>1.579213</td>\n",
       "      <td>0.767435</td>\n",
       "      <td>0.469474</td>\n",
       "      <td>0.542560</td>\n",
       "      <td>1.426418</td>\n",
       "    </tr>\n",
       "    <tr>\n",
       "      <th>2</th>\n",
       "      <td>0.463418</td>\n",
       "      <td>0.465730</td>\n",
       "      <td>0.241962</td>\n",
       "      <td>1.913280</td>\n",
       "      <td>1.724918</td>\n",
       "      <td>0.034378</td>\n",
       "    </tr>\n",
       "    <tr>\n",
       "      <th>3</th>\n",
       "      <td>0.562288</td>\n",
       "      <td>1.012831</td>\n",
       "      <td>0.314247</td>\n",
       "      <td>0.908024</td>\n",
       "      <td>1.412304</td>\n",
       "      <td>0.893652</td>\n",
       "    </tr>\n",
       "    <tr>\n",
       "      <th>4</th>\n",
       "      <td>1.465649</td>\n",
       "      <td>0.225776</td>\n",
       "      <td>0.067528</td>\n",
       "      <td>1.424748</td>\n",
       "      <td>0.544383</td>\n",
       "      <td>0.986830</td>\n",
       "    </tr>\n",
       "  </tbody>\n",
       "</table>\n",
       "</div>"
      ],
      "text/plain": [
       "   feature_1  feature_2  feature_3  feature_4  feature_5    target\n",
       "0   0.496714   0.138264   0.647689   1.523030   0.234153  2.404455\n",
       "1   0.234137   1.579213   0.767435   0.469474   0.542560  1.426418\n",
       "2   0.463418   0.465730   0.241962   1.913280   1.724918  0.034378\n",
       "3   0.562288   1.012831   0.314247   0.908024   1.412304  0.893652\n",
       "4   1.465649   0.225776   0.067528   1.424748   0.544383  0.986830"
      ]
     },
     "execution_count": 12,
     "metadata": {},
     "output_type": "execute_result"
    }
   ],
   "source": [
    "# Définir la graine aléatoire pour garantir que le dataset est toujours le même\n",
    "np.random.seed(42)\n",
    "\n",
    "# Générer un dataset synthétique de 1000 lignes et 5 colonnes avec des valeurs positives\n",
    "rows = 1000\n",
    "cols = 5\n",
    "data = np.abs(np.random.randn(rows, cols))  # Utiliser la valeur absolue pour garantir des valeurs positives\n",
    "\n",
    "# Créer un DataFrame pandas à partir des données générées\n",
    "columns = [f'feature_{i+1}' for i in range(cols)]\n",
    "df = pd.DataFrame(data, columns=columns)\n",
    "\n",
    "# Générer une variable cible continue avec du bruit et garantir des valeurs positives\n",
    "weights = np.random.randn(cols)\n",
    "noise = np.random.randn(rows) * 0.5  # Ajouter du bruit\n",
    "target = np.dot(df[columns], weights) + noise\n",
    "target = np.abs(target)  # Utiliser la valeur absolue pour garantir des valeurs positives\n",
    "df['target'] = target\n",
    "\n",
    "# Afficher les premières lignes du DataFrame\n",
    "df.head()"
   ]
  },
  {
   "cell_type": "markdown",
   "id": "50ee12ca-30f5-4627-83f1-eaaa30aee4ce",
   "metadata": {},
   "source": [
    "# Partie 1 : Création du modèle à l’aide de sklearn"
   ]
  },
  {
   "cell_type": "markdown",
   "id": "89569224-250c-4273-b007-3efdf0d70237",
   "metadata": {},
   "source": [
    "### 1. Dataset"
   ]
  },
  {
   "cell_type": "markdown",
   "id": "421e3293-dd4d-4572-a0f3-6d0e85107ac0",
   "metadata": {},
   "source": [
    "#### b.\tAfficher les dimensions du dataset (nombre de lignes, nombre de colonnes)"
   ]
  },
  {
   "cell_type": "code",
   "execution_count": 13,
   "id": "353ac79c-645f-4931-8b7d-596793c239fd",
   "metadata": {},
   "outputs": [
    {
     "name": "stdout",
     "output_type": "stream",
     "text": [
      "Dimensions du dataset : (1000, 6)\n"
     ]
    }
   ],
   "source": [
    "print(\"Dimensions du dataset :\", df.shape)"
   ]
  },
  {
   "cell_type": "markdown",
   "id": "cced4c8d-1605-4b30-91a0-dce3604406ab",
   "metadata": {},
   "source": [
    "#### c.\tAfficher le type de données des colonnes du dataset"
   ]
  },
  {
   "cell_type": "code",
   "execution_count": 14,
   "id": "25e5653a-ad95-4361-88ab-be966f54edcb",
   "metadata": {},
   "outputs": [
    {
     "name": "stdout",
     "output_type": "stream",
     "text": [
      "Type de données des colonnes :\n",
      " feature_1    float64\n",
      "feature_2    float64\n",
      "feature_3    float64\n",
      "feature_4    float64\n",
      "feature_5    float64\n",
      "target       float64\n",
      "dtype: object\n"
     ]
    }
   ],
   "source": [
    "print(\"Type de données des colonnes :\\n\", df.dtypes)"
   ]
  },
  {
   "cell_type": "markdown",
   "id": "ef980dcd-1c71-4bf3-8b22-8435d6f60841",
   "metadata": {},
   "source": [
    "#### d.\tAfficher les dimensions du dataset (nombre de lignes, nombre de colonnes)"
   ]
  },
  {
   "cell_type": "code",
   "execution_count": 16,
   "id": "1da85cc5-58dd-47c9-8b6d-0e3bbcb62cfe",
   "metadata": {},
   "outputs": [
    {
     "name": "stdout",
     "output_type": "stream",
     "text": [
      "(1000, 6)\n"
     ]
    }
   ],
   "source": [
    "print(df.shape)"
   ]
  },
  {
   "cell_type": "markdown",
   "id": "b5505ff2-3402-47d7-89d7-668507d1241a",
   "metadata": {},
   "source": [
    "### 2. Type de problème"
   ]
  },
  {
   "cell_type": "markdown",
   "id": "b1da4461-19df-4c40-842c-47027637d791",
   "metadata": {},
   "source": [
    "#### a. Afficher que target est de type numérique"
   ]
  },
  {
   "cell_type": "code",
   "execution_count": 17,
   "id": "959c2e18-23ca-4215-a86e-70d5422f91ca",
   "metadata": {},
   "outputs": [
    {
     "name": "stdout",
     "output_type": "stream",
     "text": [
      "float64\n"
     ]
    }
   ],
   "source": [
    "print(df['target'].dtype)"
   ]
  },
  {
   "cell_type": "markdown",
   "id": "3671f3f4-6381-413f-bb4e-d517ec62a3f4",
   "metadata": {},
   "source": [
    "#### b. Pourquoi il s’agit d’un problème de régression ?"
   ]
  },
  {
   "cell_type": "markdown",
   "id": "bb744333-bf73-4bef-9e73-5fa5b9730e39",
   "metadata": {},
   "source": [
    "C'est un problème de régression car la variable cible (target) est continue et numérique."
   ]
  },
  {
   "cell_type": "markdown",
   "id": "9d761c51-6aa6-4255-9561-55f62d64a066",
   "metadata": {},
   "source": [
    "### 3.\tFeatures selection"
   ]
  },
  {
   "cell_type": "markdown",
   "id": "a223d6c8-1adb-47ba-b67a-ba13f47de46f",
   "metadata": {},
   "source": [
    "#### a.\tCombien de features existe dans ce dataset ?"
   ]
  },
  {
   "cell_type": "code",
   "execution_count": 18,
   "id": "775a2a9a-881f-408d-9485-5efc6b373397",
   "metadata": {},
   "outputs": [
    {
     "name": "stdout",
     "output_type": "stream",
     "text": [
      "Nombre de features : 5\n"
     ]
    }
   ],
   "source": [
    "print(\"Nombre de features :\", len(columns))"
   ]
  },
  {
   "cell_type": "markdown",
   "id": "a9b02500-9513-4fd8-966e-7595f2c66cdb",
   "metadata": {},
   "source": [
    "#### b.\tExtraire la partie features : x"
   ]
  },
  {
   "cell_type": "code",
   "execution_count": 19,
   "id": "a3ae1382-bb05-484a-a412-65245640d4e6",
   "metadata": {},
   "outputs": [
    {
     "data": {
      "text/html": [
       "<div>\n",
       "<style scoped>\n",
       "    .dataframe tbody tr th:only-of-type {\n",
       "        vertical-align: middle;\n",
       "    }\n",
       "\n",
       "    .dataframe tbody tr th {\n",
       "        vertical-align: top;\n",
       "    }\n",
       "\n",
       "    .dataframe thead th {\n",
       "        text-align: right;\n",
       "    }\n",
       "</style>\n",
       "<table border=\"1\" class=\"dataframe\">\n",
       "  <thead>\n",
       "    <tr style=\"text-align: right;\">\n",
       "      <th></th>\n",
       "      <th>feature_1</th>\n",
       "      <th>feature_2</th>\n",
       "      <th>feature_3</th>\n",
       "      <th>feature_4</th>\n",
       "      <th>feature_5</th>\n",
       "    </tr>\n",
       "  </thead>\n",
       "  <tbody>\n",
       "    <tr>\n",
       "      <th>0</th>\n",
       "      <td>0.496714</td>\n",
       "      <td>0.138264</td>\n",
       "      <td>0.647689</td>\n",
       "      <td>1.523030</td>\n",
       "      <td>0.234153</td>\n",
       "    </tr>\n",
       "    <tr>\n",
       "      <th>1</th>\n",
       "      <td>0.234137</td>\n",
       "      <td>1.579213</td>\n",
       "      <td>0.767435</td>\n",
       "      <td>0.469474</td>\n",
       "      <td>0.542560</td>\n",
       "    </tr>\n",
       "    <tr>\n",
       "      <th>2</th>\n",
       "      <td>0.463418</td>\n",
       "      <td>0.465730</td>\n",
       "      <td>0.241962</td>\n",
       "      <td>1.913280</td>\n",
       "      <td>1.724918</td>\n",
       "    </tr>\n",
       "    <tr>\n",
       "      <th>3</th>\n",
       "      <td>0.562288</td>\n",
       "      <td>1.012831</td>\n",
       "      <td>0.314247</td>\n",
       "      <td>0.908024</td>\n",
       "      <td>1.412304</td>\n",
       "    </tr>\n",
       "    <tr>\n",
       "      <th>4</th>\n",
       "      <td>1.465649</td>\n",
       "      <td>0.225776</td>\n",
       "      <td>0.067528</td>\n",
       "      <td>1.424748</td>\n",
       "      <td>0.544383</td>\n",
       "    </tr>\n",
       "    <tr>\n",
       "      <th>...</th>\n",
       "      <td>...</td>\n",
       "      <td>...</td>\n",
       "      <td>...</td>\n",
       "      <td>...</td>\n",
       "      <td>...</td>\n",
       "    </tr>\n",
       "    <tr>\n",
       "      <th>995</th>\n",
       "      <td>1.373835</td>\n",
       "      <td>1.378470</td>\n",
       "      <td>0.115825</td>\n",
       "      <td>0.389605</td>\n",
       "      <td>2.220421</td>\n",
       "    </tr>\n",
       "    <tr>\n",
       "      <th>996</th>\n",
       "      <td>1.197966</td>\n",
       "      <td>0.887080</td>\n",
       "      <td>0.286774</td>\n",
       "      <td>0.147205</td>\n",
       "      <td>0.564842</td>\n",
       "    </tr>\n",
       "    <tr>\n",
       "      <th>997</th>\n",
       "      <td>1.635798</td>\n",
       "      <td>0.221042</td>\n",
       "      <td>0.069370</td>\n",
       "      <td>0.192597</td>\n",
       "      <td>2.392110</td>\n",
       "    </tr>\n",
       "    <tr>\n",
       "      <th>998</th>\n",
       "      <td>2.099356</td>\n",
       "      <td>0.683223</td>\n",
       "      <td>0.114802</td>\n",
       "      <td>0.566772</td>\n",
       "      <td>0.657373</td>\n",
       "    </tr>\n",
       "    <tr>\n",
       "      <th>999</th>\n",
       "      <td>0.048965</td>\n",
       "      <td>0.711411</td>\n",
       "      <td>3.112910</td>\n",
       "      <td>0.808036</td>\n",
       "      <td>0.848066</td>\n",
       "    </tr>\n",
       "  </tbody>\n",
       "</table>\n",
       "<p>1000 rows × 5 columns</p>\n",
       "</div>"
      ],
      "text/plain": [
       "     feature_1  feature_2  feature_3  feature_4  feature_5\n",
       "0     0.496714   0.138264   0.647689   1.523030   0.234153\n",
       "1     0.234137   1.579213   0.767435   0.469474   0.542560\n",
       "2     0.463418   0.465730   0.241962   1.913280   1.724918\n",
       "3     0.562288   1.012831   0.314247   0.908024   1.412304\n",
       "4     1.465649   0.225776   0.067528   1.424748   0.544383\n",
       "..         ...        ...        ...        ...        ...\n",
       "995   1.373835   1.378470   0.115825   0.389605   2.220421\n",
       "996   1.197966   0.887080   0.286774   0.147205   0.564842\n",
       "997   1.635798   0.221042   0.069370   0.192597   2.392110\n",
       "998   2.099356   0.683223   0.114802   0.566772   0.657373\n",
       "999   0.048965   0.711411   3.112910   0.808036   0.848066\n",
       "\n",
       "[1000 rows x 5 columns]"
      ]
     },
     "execution_count": 19,
     "metadata": {},
     "output_type": "execute_result"
    }
   ],
   "source": [
    "x = df[columns]\n",
    "x"
   ]
  },
  {
   "cell_type": "markdown",
   "id": "02864565-5252-4eb6-9fe5-350f240054db",
   "metadata": {},
   "source": [
    "#### c.\tExtraire la target : y"
   ]
  },
  {
   "cell_type": "code",
   "execution_count": 20,
   "id": "d39a4ca7-96ec-4de6-a416-729e10bde606",
   "metadata": {},
   "outputs": [
    {
     "data": {
      "text/plain": [
       "0      2.404455\n",
       "1      1.426418\n",
       "2      0.034378\n",
       "3      0.893652\n",
       "4      0.986830\n",
       "         ...   \n",
       "995    0.473629\n",
       "996    1.374932\n",
       "997    0.300431\n",
       "998    1.384891\n",
       "999    5.685302\n",
       "Name: target, Length: 1000, dtype: float64"
      ]
     },
     "execution_count": 20,
     "metadata": {},
     "output_type": "execute_result"
    }
   ],
   "source": [
    "y = df['target']\n",
    "y"
   ]
  },
  {
   "cell_type": "markdown",
   "id": "947bdf1d-0f73-43bb-83e5-f46e8dd258dc",
   "metadata": {},
   "source": [
    "### 4.\tEncodage des variables catégorielles"
   ]
  },
  {
   "cell_type": "markdown",
   "id": "2f63f149-ebb2-47f6-a7ab-789ae7e480fa",
   "metadata": {},
   "source": [
    "#### a.\tPourquoi la vérification de type de variable est une phase importante ?"
   ]
  },
  {
   "cell_type": "code",
   "execution_count": null,
   "id": "2c5ac1ad-b41c-4038-aa27-2a7fce5bd0ab",
   "metadata": {},
   "outputs": [],
   "source": []
  },
  {
   "cell_type": "markdown",
   "id": "4aa82332-f3d5-45cc-af06-31dcbbb9a75a",
   "metadata": {},
   "source": [
    "#### b.\tÉcrire le code source qui permet d’afficher le type de chaque feature"
   ]
  },
  {
   "cell_type": "code",
   "execution_count": 21,
   "id": "17f7de56-ec82-4614-bea9-f8f46b3edd9a",
   "metadata": {},
   "outputs": [
    {
     "name": "stdout",
     "output_type": "stream",
     "text": [
      "Type de chaque feature :\n",
      " feature_1    float64\n",
      "feature_2    float64\n",
      "feature_3    float64\n",
      "feature_4    float64\n",
      "feature_5    float64\n",
      "dtype: object\n"
     ]
    }
   ],
   "source": [
    "print(\"Type de chaque feature :\\n\", x.dtypes)"
   ]
  },
  {
   "cell_type": "markdown",
   "id": "db13c61a-b127-479c-a299-b1bb55f27611",
   "metadata": {},
   "source": [
    "#### c.\tPour ce dataset, est ce qu’il y a des variables à encoder ?"
   ]
  },
  {
   "cell_type": "markdown",
   "id": "41455111-2455-44f1-982c-db1cf5525a2a",
   "metadata": {},
   "source": [
    "Toutes les features sont numériques, donc il n'y a pas de variables catégorielles à encoder"
   ]
  },
  {
   "cell_type": "markdown",
   "id": "5fd23bf4-14e4-482c-a6ab-ab8261d42626",
   "metadata": {},
   "source": [
    "### 5.\tSplit le dataset"
   ]
  },
  {
   "cell_type": "markdown",
   "id": "e1e6a80c-e086-4fed-9616-a9eaaa076287",
   "metadata": {},
   "source": [
    "#### a.\tPourquoi est-il nécessaire de diviser le dataset en training dataset et test dataset ? "
   ]
  },
  {
   "cell_type": "markdown",
   "id": "2f2fcd5a-6a86-4e94-ab47-f3f34de17597",
   "metadata": {},
   "source": [
    "Pour évaluer la performance du modèle sur des données non vues durant l'entraînement et éviter l'overfitting."
   ]
  },
  {
   "cell_type": "markdown",
   "id": "a2486844-0138-46a4-b1be-0d4d6369623a",
   "metadata": {},
   "source": [
    "#### b.\tQuelle fonction utiliser pour diviser le dataset en train (X_train,y_train) et en test (X_test,y_test) ? quels sont ces principaux paramètres ? "
   ]
  },
  {
   "cell_type": "markdown",
   "id": "d70ff6b1-1a32-40fb-b617-b9f20beea49a",
   "metadata": {},
   "source": [
    "Pour diviser le dataset en train et test, on utilise la fonction `train_test_split` de la bibliothèque `sklearn.model_selection`. Les principaux paramètres de cette fonction sont les suivants :\n",
    "\n",
    "1. **`X`** : Les données d'entrée (features).\n",
    "2. **`y`** : Les données de sortie (target).\n",
    "3. **`test_size`** : La proportion du dataset à inclure dans le split de test (par exemple, 0.2 pour 20%).\n",
    "4. **`train_size`** : La proportion du dataset à inclure dans le split d'entraînement (optionnel, complémentaire de `test_size`).\n",
    "5. **`random_state`** : Un entier qui fixe l'état aléatoire pour rendre les résultats reproductibles.\n",
    "6. **`shuffle`** : Booléen indiquant si les données doivent être mélangées avant d'être divisées (par défaut à `True`)."
   ]
  },
  {
   "cell_type": "markdown",
   "id": "161f70a3-621b-4440-ad80-2e39e4826750",
   "metadata": {},
   "source": [
    "#### c.\tPourquoi il est important de fixer le paramètre random_state ? utiliser random_state=23"
   ]
  },
  {
   "cell_type": "markdown",
   "id": "c3be1835-a372-4fe9-b1b3-e1fb1e07d9d8",
   "metadata": {},
   "source": [
    "Le paramètre `random_state` est crucial pour garantir la reproductibilité des résultats. Fixer ce paramètre à une valeur spécifique permet d'obtenir les mêmes résultats chaque fois qu'on exécute le code.\n"
   ]
  },
  {
   "cell_type": "markdown",
   "id": "63d429e8-8057-4cb2-9fd3-017759632bd3",
   "metadata": {},
   "source": [
    "#### d.\tDiviser le data set en training (80%) et en test (20%). Quelle est la taille de X_test, X_train ?"
   ]
  },
  {
   "cell_type": "code",
   "execution_count": 22,
   "id": "1d11c2a1-c662-48a0-bdc7-b074de4d9c8b",
   "metadata": {},
   "outputs": [
    {
     "name": "stdout",
     "output_type": "stream",
     "text": [
      "Dimensions de X_train : (800, 5)\n",
      "Dimensions de X_test : (200, 5)\n",
      "Dimensions de y_train : (800,)\n",
      "Dimensions de y_test : (200,)\n"
     ]
    }
   ],
   "source": [
    "x_train, x_test, y_train, y_test = train_test_split(x, y, test_size=0.2, random_state=23)\n",
    "\n",
    "# Afficher les dimensions des datasets d'entraînement et de test\n",
    "print(\"Dimensions de X_train :\", x_train.shape)\n",
    "print(\"Dimensions de X_test :\", x_test.shape)\n",
    "print(\"Dimensions de y_train :\", y_train.shape)\n",
    "print(\"Dimensions de y_test :\", y_test.shape)"
   ]
  },
  {
   "cell_type": "markdown",
   "id": "401fa9a9-f11c-4e3f-a74f-a22b2bc98539",
   "metadata": {},
   "source": [
    "### 6.\tModel"
   ]
  },
  {
   "cell_type": "markdown",
   "id": "67074d39-974d-4439-a933-fcbf8af2b62f",
   "metadata": {},
   "source": [
    "#### a.\tQuelle est la forme mathématique du modèle qui correspond à ce dataset ?\n"
   ]
  },
  {
   "cell_type": "markdown",
   "id": "4636f408-dbb7-47bd-a0d6-281aa54377d0",
   "metadata": {},
   "source": [
    "Le modèle mathématique correspondant à un problème de classification binaire comme celui-ci est la **régression logistique**. La régression logistique permet de prédire la probabilité qu'un échantillon appartienne à une classe donnée (par exemple, 0 ou 1) en fonction des features.\n",
    "\n",
    "### Forme mathématique de la régression logistique\n",
    "\n",
    "1. **Modèle linéaire** :\n",
    "   Le modèle commence par une combinaison linéaire des features d'entrée \\( x \\) :\n",
    "   \\[\n",
    "   z = \\theta_0 + \\theta_1 x_1 + \\theta_2 x_2 + \\ldots + \\theta_n x_n\n",
    "   \\]\n",
    "   où :\n",
    "   - \\( z \\) est la somme pondérée des features.\n",
    "   - \\( \\theta_0 \\) est le biais (intercept).\n",
    "   - \\( \\theta_1, \\theta_2, \\ldots, \\theta_n \\) sont les coefficients (poids) associés à chaque feature \\( x_1, x_2, \\ldots, x_n \\).\n",
    "\n",
    "2. **Fonction sigmoïde** :\n",
    "   La régression logistique utilise la fonction sigmoïde pour convertir cette combinaison linéaire en une probabilité comprise entre 0 et 1 :\n",
    "   \\[\n",
    "   h_\\theta(x) = \\sigma(z) = \\frac{1}{1 + e^{-z}}\n",
    "   \\]\n",
    "   où :\n",
    "   - \\( \\sigma(z) \\) est la fonction sigmoïde.\n",
    "   - \\( e \\) est la base du logarithme naturel (environ 2.71828).\n",
    "\n",
    "3. **Hypothèse du modèle** :\n",
    "   L'hypothèse de la régression logistique est donc :\n",
    "   \\[\n",
    "   h_\\theta(x) = \\frac{1}{1 + e^{-(\\theta_0 + \\theta_1 x_1 + \\theta_2 x_2 + \\ldots + \\theta_n x_n)}}\n",
    "   \\]\n",
    "\n",
    "4. **Décision de classification** :\n",
    "   Pour prendre une décision de classification binaire, on applique un seuil (souvent 0.5) à la probabilité prédite :\n",
    "   \\[\n",
    "   \\hat{y} = \n",
    "   \\begin{cases} \n",
    "   1 & \\text{si } h_\\theta(x) \\geq 0.5 \\\\\n",
    "   0 & \\text{sinon}\n",
    "   \\end{cases}\n",
    "   \\]\n",
    "   où :\n",
    "   - \\( \\hat{y} \\) est la classe prédite.\n",
    "\n",
    "En résumé, la régression logistique modélise la relation entre les features \\( x \\) et la probabilité que la sortie \\( y \\) soit 1 en utilisant une combinaison linéaire des features transformée par une fonction sigmoïde."
   ]
  },
  {
   "cell_type": "markdown",
   "id": "70416c56-e075-483c-849b-bd4ab7bccecf",
   "metadata": {},
   "source": [
    "#### b.\tEn se basant sur LinearRegression, créer le modèle "
   ]
  },
  {
   "cell_type": "code",
   "execution_count": 23,
   "id": "ef73073e-b9b9-428a-a4f3-25743d4915e2",
   "metadata": {},
   "outputs": [],
   "source": [
    "# Créer le modèle\n",
    "model = LinearRegression()"
   ]
  },
  {
   "cell_type": "markdown",
   "id": "7969aa45-4933-45bb-a317-068186d1b42d",
   "metadata": {},
   "source": [
    "#### c.\tEntrainer le modèle"
   ]
  },
  {
   "cell_type": "code",
   "execution_count": 24,
   "id": "1881d1da-13ed-4f65-929e-d58835a03b87",
   "metadata": {},
   "outputs": [
    {
     "data": {
      "text/html": [
       "<style>#sk-container-id-1 {\n",
       "  /* Definition of color scheme common for light and dark mode */\n",
       "  --sklearn-color-text: black;\n",
       "  --sklearn-color-line: gray;\n",
       "  /* Definition of color scheme for unfitted estimators */\n",
       "  --sklearn-color-unfitted-level-0: #fff5e6;\n",
       "  --sklearn-color-unfitted-level-1: #f6e4d2;\n",
       "  --sklearn-color-unfitted-level-2: #ffe0b3;\n",
       "  --sklearn-color-unfitted-level-3: chocolate;\n",
       "  /* Definition of color scheme for fitted estimators */\n",
       "  --sklearn-color-fitted-level-0: #f0f8ff;\n",
       "  --sklearn-color-fitted-level-1: #d4ebff;\n",
       "  --sklearn-color-fitted-level-2: #b3dbfd;\n",
       "  --sklearn-color-fitted-level-3: cornflowerblue;\n",
       "\n",
       "  /* Specific color for light theme */\n",
       "  --sklearn-color-text-on-default-background: var(--sg-text-color, var(--theme-code-foreground, var(--jp-content-font-color1, black)));\n",
       "  --sklearn-color-background: var(--sg-background-color, var(--theme-background, var(--jp-layout-color0, white)));\n",
       "  --sklearn-color-border-box: var(--sg-text-color, var(--theme-code-foreground, var(--jp-content-font-color1, black)));\n",
       "  --sklearn-color-icon: #696969;\n",
       "\n",
       "  @media (prefers-color-scheme: dark) {\n",
       "    /* Redefinition of color scheme for dark theme */\n",
       "    --sklearn-color-text-on-default-background: var(--sg-text-color, var(--theme-code-foreground, var(--jp-content-font-color1, white)));\n",
       "    --sklearn-color-background: var(--sg-background-color, var(--theme-background, var(--jp-layout-color0, #111)));\n",
       "    --sklearn-color-border-box: var(--sg-text-color, var(--theme-code-foreground, var(--jp-content-font-color1, white)));\n",
       "    --sklearn-color-icon: #878787;\n",
       "  }\n",
       "}\n",
       "\n",
       "#sk-container-id-1 {\n",
       "  color: var(--sklearn-color-text);\n",
       "}\n",
       "\n",
       "#sk-container-id-1 pre {\n",
       "  padding: 0;\n",
       "}\n",
       "\n",
       "#sk-container-id-1 input.sk-hidden--visually {\n",
       "  border: 0;\n",
       "  clip: rect(1px 1px 1px 1px);\n",
       "  clip: rect(1px, 1px, 1px, 1px);\n",
       "  height: 1px;\n",
       "  margin: -1px;\n",
       "  overflow: hidden;\n",
       "  padding: 0;\n",
       "  position: absolute;\n",
       "  width: 1px;\n",
       "}\n",
       "\n",
       "#sk-container-id-1 div.sk-dashed-wrapped {\n",
       "  border: 1px dashed var(--sklearn-color-line);\n",
       "  margin: 0 0.4em 0.5em 0.4em;\n",
       "  box-sizing: border-box;\n",
       "  padding-bottom: 0.4em;\n",
       "  background-color: var(--sklearn-color-background);\n",
       "}\n",
       "\n",
       "#sk-container-id-1 div.sk-container {\n",
       "  /* jupyter's `normalize.less` sets `[hidden] { display: none; }`\n",
       "     but bootstrap.min.css set `[hidden] { display: none !important; }`\n",
       "     so we also need the `!important` here to be able to override the\n",
       "     default hidden behavior on the sphinx rendered scikit-learn.org.\n",
       "     See: https://github.com/scikit-learn/scikit-learn/issues/21755 */\n",
       "  display: inline-block !important;\n",
       "  position: relative;\n",
       "}\n",
       "\n",
       "#sk-container-id-1 div.sk-text-repr-fallback {\n",
       "  display: none;\n",
       "}\n",
       "\n",
       "div.sk-parallel-item,\n",
       "div.sk-serial,\n",
       "div.sk-item {\n",
       "  /* draw centered vertical line to link estimators */\n",
       "  background-image: linear-gradient(var(--sklearn-color-text-on-default-background), var(--sklearn-color-text-on-default-background));\n",
       "  background-size: 2px 100%;\n",
       "  background-repeat: no-repeat;\n",
       "  background-position: center center;\n",
       "}\n",
       "\n",
       "/* Parallel-specific style estimator block */\n",
       "\n",
       "#sk-container-id-1 div.sk-parallel-item::after {\n",
       "  content: \"\";\n",
       "  width: 100%;\n",
       "  border-bottom: 2px solid var(--sklearn-color-text-on-default-background);\n",
       "  flex-grow: 1;\n",
       "}\n",
       "\n",
       "#sk-container-id-1 div.sk-parallel {\n",
       "  display: flex;\n",
       "  align-items: stretch;\n",
       "  justify-content: center;\n",
       "  background-color: var(--sklearn-color-background);\n",
       "  position: relative;\n",
       "}\n",
       "\n",
       "#sk-container-id-1 div.sk-parallel-item {\n",
       "  display: flex;\n",
       "  flex-direction: column;\n",
       "}\n",
       "\n",
       "#sk-container-id-1 div.sk-parallel-item:first-child::after {\n",
       "  align-self: flex-end;\n",
       "  width: 50%;\n",
       "}\n",
       "\n",
       "#sk-container-id-1 div.sk-parallel-item:last-child::after {\n",
       "  align-self: flex-start;\n",
       "  width: 50%;\n",
       "}\n",
       "\n",
       "#sk-container-id-1 div.sk-parallel-item:only-child::after {\n",
       "  width: 0;\n",
       "}\n",
       "\n",
       "/* Serial-specific style estimator block */\n",
       "\n",
       "#sk-container-id-1 div.sk-serial {\n",
       "  display: flex;\n",
       "  flex-direction: column;\n",
       "  align-items: center;\n",
       "  background-color: var(--sklearn-color-background);\n",
       "  padding-right: 1em;\n",
       "  padding-left: 1em;\n",
       "}\n",
       "\n",
       "\n",
       "/* Toggleable style: style used for estimator/Pipeline/ColumnTransformer box that is\n",
       "clickable and can be expanded/collapsed.\n",
       "- Pipeline and ColumnTransformer use this feature and define the default style\n",
       "- Estimators will overwrite some part of the style using the `sk-estimator` class\n",
       "*/\n",
       "\n",
       "/* Pipeline and ColumnTransformer style (default) */\n",
       "\n",
       "#sk-container-id-1 div.sk-toggleable {\n",
       "  /* Default theme specific background. It is overwritten whether we have a\n",
       "  specific estimator or a Pipeline/ColumnTransformer */\n",
       "  background-color: var(--sklearn-color-background);\n",
       "}\n",
       "\n",
       "/* Toggleable label */\n",
       "#sk-container-id-1 label.sk-toggleable__label {\n",
       "  cursor: pointer;\n",
       "  display: block;\n",
       "  width: 100%;\n",
       "  margin-bottom: 0;\n",
       "  padding: 0.5em;\n",
       "  box-sizing: border-box;\n",
       "  text-align: center;\n",
       "}\n",
       "\n",
       "#sk-container-id-1 label.sk-toggleable__label-arrow:before {\n",
       "  /* Arrow on the left of the label */\n",
       "  content: \"▸\";\n",
       "  float: left;\n",
       "  margin-right: 0.25em;\n",
       "  color: var(--sklearn-color-icon);\n",
       "}\n",
       "\n",
       "#sk-container-id-1 label.sk-toggleable__label-arrow:hover:before {\n",
       "  color: var(--sklearn-color-text);\n",
       "}\n",
       "\n",
       "/* Toggleable content - dropdown */\n",
       "\n",
       "#sk-container-id-1 div.sk-toggleable__content {\n",
       "  max-height: 0;\n",
       "  max-width: 0;\n",
       "  overflow: hidden;\n",
       "  text-align: left;\n",
       "  /* unfitted */\n",
       "  background-color: var(--sklearn-color-unfitted-level-0);\n",
       "}\n",
       "\n",
       "#sk-container-id-1 div.sk-toggleable__content.fitted {\n",
       "  /* fitted */\n",
       "  background-color: var(--sklearn-color-fitted-level-0);\n",
       "}\n",
       "\n",
       "#sk-container-id-1 div.sk-toggleable__content pre {\n",
       "  margin: 0.2em;\n",
       "  border-radius: 0.25em;\n",
       "  color: var(--sklearn-color-text);\n",
       "  /* unfitted */\n",
       "  background-color: var(--sklearn-color-unfitted-level-0);\n",
       "}\n",
       "\n",
       "#sk-container-id-1 div.sk-toggleable__content.fitted pre {\n",
       "  /* unfitted */\n",
       "  background-color: var(--sklearn-color-fitted-level-0);\n",
       "}\n",
       "\n",
       "#sk-container-id-1 input.sk-toggleable__control:checked~div.sk-toggleable__content {\n",
       "  /* Expand drop-down */\n",
       "  max-height: 200px;\n",
       "  max-width: 100%;\n",
       "  overflow: auto;\n",
       "}\n",
       "\n",
       "#sk-container-id-1 input.sk-toggleable__control:checked~label.sk-toggleable__label-arrow:before {\n",
       "  content: \"▾\";\n",
       "}\n",
       "\n",
       "/* Pipeline/ColumnTransformer-specific style */\n",
       "\n",
       "#sk-container-id-1 div.sk-label input.sk-toggleable__control:checked~label.sk-toggleable__label {\n",
       "  color: var(--sklearn-color-text);\n",
       "  background-color: var(--sklearn-color-unfitted-level-2);\n",
       "}\n",
       "\n",
       "#sk-container-id-1 div.sk-label.fitted input.sk-toggleable__control:checked~label.sk-toggleable__label {\n",
       "  background-color: var(--sklearn-color-fitted-level-2);\n",
       "}\n",
       "\n",
       "/* Estimator-specific style */\n",
       "\n",
       "/* Colorize estimator box */\n",
       "#sk-container-id-1 div.sk-estimator input.sk-toggleable__control:checked~label.sk-toggleable__label {\n",
       "  /* unfitted */\n",
       "  background-color: var(--sklearn-color-unfitted-level-2);\n",
       "}\n",
       "\n",
       "#sk-container-id-1 div.sk-estimator.fitted input.sk-toggleable__control:checked~label.sk-toggleable__label {\n",
       "  /* fitted */\n",
       "  background-color: var(--sklearn-color-fitted-level-2);\n",
       "}\n",
       "\n",
       "#sk-container-id-1 div.sk-label label.sk-toggleable__label,\n",
       "#sk-container-id-1 div.sk-label label {\n",
       "  /* The background is the default theme color */\n",
       "  color: var(--sklearn-color-text-on-default-background);\n",
       "}\n",
       "\n",
       "/* On hover, darken the color of the background */\n",
       "#sk-container-id-1 div.sk-label:hover label.sk-toggleable__label {\n",
       "  color: var(--sklearn-color-text);\n",
       "  background-color: var(--sklearn-color-unfitted-level-2);\n",
       "}\n",
       "\n",
       "/* Label box, darken color on hover, fitted */\n",
       "#sk-container-id-1 div.sk-label.fitted:hover label.sk-toggleable__label.fitted {\n",
       "  color: var(--sklearn-color-text);\n",
       "  background-color: var(--sklearn-color-fitted-level-2);\n",
       "}\n",
       "\n",
       "/* Estimator label */\n",
       "\n",
       "#sk-container-id-1 div.sk-label label {\n",
       "  font-family: monospace;\n",
       "  font-weight: bold;\n",
       "  display: inline-block;\n",
       "  line-height: 1.2em;\n",
       "}\n",
       "\n",
       "#sk-container-id-1 div.sk-label-container {\n",
       "  text-align: center;\n",
       "}\n",
       "\n",
       "/* Estimator-specific */\n",
       "#sk-container-id-1 div.sk-estimator {\n",
       "  font-family: monospace;\n",
       "  border: 1px dotted var(--sklearn-color-border-box);\n",
       "  border-radius: 0.25em;\n",
       "  box-sizing: border-box;\n",
       "  margin-bottom: 0.5em;\n",
       "  /* unfitted */\n",
       "  background-color: var(--sklearn-color-unfitted-level-0);\n",
       "}\n",
       "\n",
       "#sk-container-id-1 div.sk-estimator.fitted {\n",
       "  /* fitted */\n",
       "  background-color: var(--sklearn-color-fitted-level-0);\n",
       "}\n",
       "\n",
       "/* on hover */\n",
       "#sk-container-id-1 div.sk-estimator:hover {\n",
       "  /* unfitted */\n",
       "  background-color: var(--sklearn-color-unfitted-level-2);\n",
       "}\n",
       "\n",
       "#sk-container-id-1 div.sk-estimator.fitted:hover {\n",
       "  /* fitted */\n",
       "  background-color: var(--sklearn-color-fitted-level-2);\n",
       "}\n",
       "\n",
       "/* Specification for estimator info (e.g. \"i\" and \"?\") */\n",
       "\n",
       "/* Common style for \"i\" and \"?\" */\n",
       "\n",
       ".sk-estimator-doc-link,\n",
       "a:link.sk-estimator-doc-link,\n",
       "a:visited.sk-estimator-doc-link {\n",
       "  float: right;\n",
       "  font-size: smaller;\n",
       "  line-height: 1em;\n",
       "  font-family: monospace;\n",
       "  background-color: var(--sklearn-color-background);\n",
       "  border-radius: 1em;\n",
       "  height: 1em;\n",
       "  width: 1em;\n",
       "  text-decoration: none !important;\n",
       "  margin-left: 1ex;\n",
       "  /* unfitted */\n",
       "  border: var(--sklearn-color-unfitted-level-1) 1pt solid;\n",
       "  color: var(--sklearn-color-unfitted-level-1);\n",
       "}\n",
       "\n",
       ".sk-estimator-doc-link.fitted,\n",
       "a:link.sk-estimator-doc-link.fitted,\n",
       "a:visited.sk-estimator-doc-link.fitted {\n",
       "  /* fitted */\n",
       "  border: var(--sklearn-color-fitted-level-1) 1pt solid;\n",
       "  color: var(--sklearn-color-fitted-level-1);\n",
       "}\n",
       "\n",
       "/* On hover */\n",
       "div.sk-estimator:hover .sk-estimator-doc-link:hover,\n",
       ".sk-estimator-doc-link:hover,\n",
       "div.sk-label-container:hover .sk-estimator-doc-link:hover,\n",
       ".sk-estimator-doc-link:hover {\n",
       "  /* unfitted */\n",
       "  background-color: var(--sklearn-color-unfitted-level-3);\n",
       "  color: var(--sklearn-color-background);\n",
       "  text-decoration: none;\n",
       "}\n",
       "\n",
       "div.sk-estimator.fitted:hover .sk-estimator-doc-link.fitted:hover,\n",
       ".sk-estimator-doc-link.fitted:hover,\n",
       "div.sk-label-container:hover .sk-estimator-doc-link.fitted:hover,\n",
       ".sk-estimator-doc-link.fitted:hover {\n",
       "  /* fitted */\n",
       "  background-color: var(--sklearn-color-fitted-level-3);\n",
       "  color: var(--sklearn-color-background);\n",
       "  text-decoration: none;\n",
       "}\n",
       "\n",
       "/* Span, style for the box shown on hovering the info icon */\n",
       ".sk-estimator-doc-link span {\n",
       "  display: none;\n",
       "  z-index: 9999;\n",
       "  position: relative;\n",
       "  font-weight: normal;\n",
       "  right: .2ex;\n",
       "  padding: .5ex;\n",
       "  margin: .5ex;\n",
       "  width: min-content;\n",
       "  min-width: 20ex;\n",
       "  max-width: 50ex;\n",
       "  color: var(--sklearn-color-text);\n",
       "  box-shadow: 2pt 2pt 4pt #999;\n",
       "  /* unfitted */\n",
       "  background: var(--sklearn-color-unfitted-level-0);\n",
       "  border: .5pt solid var(--sklearn-color-unfitted-level-3);\n",
       "}\n",
       "\n",
       ".sk-estimator-doc-link.fitted span {\n",
       "  /* fitted */\n",
       "  background: var(--sklearn-color-fitted-level-0);\n",
       "  border: var(--sklearn-color-fitted-level-3);\n",
       "}\n",
       "\n",
       ".sk-estimator-doc-link:hover span {\n",
       "  display: block;\n",
       "}\n",
       "\n",
       "/* \"?\"-specific style due to the `<a>` HTML tag */\n",
       "\n",
       "#sk-container-id-1 a.estimator_doc_link {\n",
       "  float: right;\n",
       "  font-size: 1rem;\n",
       "  line-height: 1em;\n",
       "  font-family: monospace;\n",
       "  background-color: var(--sklearn-color-background);\n",
       "  border-radius: 1rem;\n",
       "  height: 1rem;\n",
       "  width: 1rem;\n",
       "  text-decoration: none;\n",
       "  /* unfitted */\n",
       "  color: var(--sklearn-color-unfitted-level-1);\n",
       "  border: var(--sklearn-color-unfitted-level-1) 1pt solid;\n",
       "}\n",
       "\n",
       "#sk-container-id-1 a.estimator_doc_link.fitted {\n",
       "  /* fitted */\n",
       "  border: var(--sklearn-color-fitted-level-1) 1pt solid;\n",
       "  color: var(--sklearn-color-fitted-level-1);\n",
       "}\n",
       "\n",
       "/* On hover */\n",
       "#sk-container-id-1 a.estimator_doc_link:hover {\n",
       "  /* unfitted */\n",
       "  background-color: var(--sklearn-color-unfitted-level-3);\n",
       "  color: var(--sklearn-color-background);\n",
       "  text-decoration: none;\n",
       "}\n",
       "\n",
       "#sk-container-id-1 a.estimator_doc_link.fitted:hover {\n",
       "  /* fitted */\n",
       "  background-color: var(--sklearn-color-fitted-level-3);\n",
       "}\n",
       "</style><div id=\"sk-container-id-1\" class=\"sk-top-container\"><div class=\"sk-text-repr-fallback\"><pre>LinearRegression()</pre><b>In a Jupyter environment, please rerun this cell to show the HTML representation or trust the notebook. <br />On GitHub, the HTML representation is unable to render, please try loading this page with nbviewer.org.</b></div><div class=\"sk-container\" hidden><div class=\"sk-item\"><div class=\"sk-estimator fitted sk-toggleable\"><input class=\"sk-toggleable__control sk-hidden--visually\" id=\"sk-estimator-id-1\" type=\"checkbox\" checked><label for=\"sk-estimator-id-1\" class=\"sk-toggleable__label fitted sk-toggleable__label-arrow fitted\">&nbsp;&nbsp;LinearRegression<a class=\"sk-estimator-doc-link fitted\" rel=\"noreferrer\" target=\"_blank\" href=\"https://scikit-learn.org/1.5/modules/generated/sklearn.linear_model.LinearRegression.html\">?<span>Documentation for LinearRegression</span></a><span class=\"sk-estimator-doc-link fitted\">i<span>Fitted</span></span></label><div class=\"sk-toggleable__content fitted\"><pre>LinearRegression()</pre></div> </div></div></div></div>"
      ],
      "text/plain": [
       "LinearRegression()"
      ]
     },
     "execution_count": 24,
     "metadata": {},
     "output_type": "execute_result"
    }
   ],
   "source": [
    "model.fit(x_train, y_train)"
   ]
  },
  {
   "cell_type": "markdown",
   "id": "e716e9a1-3fd3-44a7-9644-5419c007b030",
   "metadata": {},
   "source": [
    "#### d.\tAfficher les paramètres du modèle"
   ]
  },
  {
   "cell_type": "code",
   "execution_count": 25,
   "id": "b898a427",
   "metadata": {},
   "outputs": [
    {
     "name": "stdout",
     "output_type": "stream",
     "text": [
      "Coefficients du modèle : [ 0.37613121  0.39358175  1.68422795  0.31757578 -0.59116717]\n",
      "Intercept du modèle : 0.14943275948075407\n"
     ]
    }
   ],
   "source": [
    "print(\"Coefficients du modèle :\", model.coef_)\n",
    "print(\"Intercept du modèle :\", model.intercept_)"
   ]
  },
  {
   "cell_type": "markdown",
   "id": "733536ad-be48-433a-ad72-d372075909df",
   "metadata": {},
   "source": [
    "#### e.\tSur la base des paramètres du modèle trouvé, créer une fonction predict1 (X) capable de faire des prédictions"
   ]
  },
  {
   "cell_type": "code",
   "execution_count": 26,
   "id": "0d51b12d-c4ff-4af7-a6ae-d16574819601",
   "metadata": {},
   "outputs": [],
   "source": [
    "def predict1(X):\n",
    "    return np.dot(X, model.coef_) + model.intercept_"
   ]
  },
  {
   "cell_type": "markdown",
   "id": "d89451d9-6fd2-4835-b75f-2c1f7f9af87b",
   "metadata": {},
   "source": [
    "#### f.\tAfficher le résultat retourné par la fonction predict1 si on lui passe le X_test "
   ]
  },
  {
   "cell_type": "code",
   "execution_count": 27,
   "id": "0ebf957a-c4ec-451f-98ad-f16c0f38e7d1",
   "metadata": {},
   "outputs": [
    {
     "name": "stdout",
     "output_type": "stream",
     "text": [
      "Prédictions pour X_test : [ 1.67951346  2.51017042  2.69034117  2.05832336  1.30786681  1.30508514\n",
      " -0.05946982  0.61654762  4.74787845  1.73643975  2.39091293  2.71532649\n",
      "  3.65266604  1.31016353  2.22533505  1.14621503  4.18804496  0.46890358\n",
      "  1.19269934  3.12849293  4.111894    1.21030411  0.20838048  2.3407911\n",
      "  0.57028639  1.69439183  2.10373487  2.56511903  0.95333111  0.89060304\n",
      "  0.58275466  1.50361433  1.57815626  1.65916761  1.72354053  1.26139691\n",
      "  2.6854412   3.23031714  1.11297342  1.07498046  1.60523945  0.85604296\n",
      "  1.00929017  1.17904043  0.93824251  3.438833    0.14325467  0.27240571\n",
      "  2.1619295   1.46372917  1.99719376  5.17400983  3.37576631  1.93763281\n",
      "  2.40723577  3.68223081  5.36715953  2.01228774  3.72475412  4.07682853\n",
      "  2.36495432  1.13631304  2.08662288  2.25699756  0.52260311  1.30928201\n",
      "  1.29027389  0.45198357  2.70879695  3.06581346  1.89858894  3.4950801\n",
      "  1.05349247  1.47101114  3.1539173   1.35755171  2.17798183  2.51450548\n",
      "  3.14448032  0.69709718  2.16530786  1.39509706  3.5401662   1.33133112\n",
      "  4.31356942  1.23041453  1.75974277  2.22560774  4.25188539  2.40258525\n",
      "  2.02623309  1.36918507  2.22202684  1.13211776  0.636194    4.3443471\n",
      "  3.01398462  2.53777158  1.00868366  1.4958471   3.35288793  1.21999822\n",
      "  1.13002825  2.3141254   0.99268204  1.7650236   0.54043324  3.26577156\n",
      "  2.77323883  1.80972523  1.93585753 -0.19945202  1.27921218  1.33404255\n",
      "  0.19538691 -0.13052459  0.38146605  0.97430823  2.9312185   3.65857707\n",
      "  1.92628037  0.68575403  1.87558045  1.16474069  0.61433996  3.08640528\n",
      "  2.68552383  1.85913575  3.73239228  2.08235374  1.93881545  2.30541512\n",
      "  1.61252987  3.58775134  1.45806376  2.36129555 -0.14110055  1.19057019\n",
      "  1.16722578  0.82483309  1.57089099  1.67281623  1.06021687  0.7144808\n",
      "  1.12291154  1.37768458  2.05948192  2.12749941 -0.35068626  3.39896206\n",
      "  3.17073583  4.39283411  1.92423265  2.80541314  1.46238603  3.73256707\n",
      "  1.37558787  2.97892434  3.14250873 -0.17007269  3.04666071  0.27197041\n",
      "  0.82266199  1.18590859  1.30826416  1.40935262  1.93293013  1.6434019\n",
      "  2.34456103  1.11907423  1.85748292  0.88678546  2.59248496  1.35578912\n",
      "  0.54155787 -0.42518401  2.3864558   0.74822935  3.99650566  0.96645319\n",
      "  2.23703183  0.66366297  2.79162463  0.25190772  1.7459688   1.99938342\n",
      "  1.90632935  0.59922052  0.95062969  1.72260728  1.79760245  0.52213375\n",
      "  0.87237436  2.05097156  0.53945294  2.23498413  2.14143632  1.2972228\n",
      "  1.84203409  2.42411204]\n"
     ]
    }
   ],
   "source": [
    "print(\"Prédictions pour X_test :\", predict1(x_test))"
   ]
  },
  {
   "cell_type": "markdown",
   "id": "660eba9f-0aa3-40c7-9f9b-3fd09d15a1f5",
   "metadata": {},
   "source": [
    "### 7.\tEvaluation du modèle"
   ]
  },
  {
   "cell_type": "markdown",
   "id": "628194e8-d555-40aa-bf2a-23f0e42d4dc0",
   "metadata": {},
   "source": [
    "#### a.\tEn utilisant sklearn, quelle est la valeur de mse du modèle ? Interpréter le résultat."
   ]
  },
  {
   "cell_type": "code",
   "execution_count": 28,
   "id": "1c4112ab-93b5-40d0-ab51-dc6e3c77ebcc",
   "metadata": {},
   "outputs": [
    {
     "name": "stdout",
     "output_type": "stream",
     "text": [
      "Valeur de MSE du modèle : 0.2299318893415373\n"
     ]
    }
   ],
   "source": [
    "y_pred = model.predict(x_test)\n",
    "mse = mean_squared_error(y_test, y_pred)\n",
    "print(\"Valeur de MSE du modèle :\", mse)"
   ]
  },
  {
   "cell_type": "markdown",
   "id": "dd95cec6-da87-42d7-947a-2f94c5036652",
   "metadata": {},
   "source": [
    "#### b.\tEn utilisant sklearn, quelle est la valeur de r2 du modèle ? Interpréter le résultat."
   ]
  },
  {
   "cell_type": "code",
   "execution_count": 29,
   "id": "8a09eb34",
   "metadata": {},
   "outputs": [
    {
     "name": "stdout",
     "output_type": "stream",
     "text": [
      "Valeur de R2 du modèle : 0.8382989618935877\n"
     ]
    }
   ],
   "source": [
    "r2 = r2_score(y_test, y_pred)\n",
    "print(\"Valeur de R2 du modèle :\", r2)"
   ]
  },
  {
   "cell_type": "markdown",
   "id": "32120f44-b8ba-4778-a060-7bd1f81b0635",
   "metadata": {},
   "source": [
    "#### c.\tSans utiliser sklearn, créer une fonction evaluer (y_hat,y_test) capable de calculer r2 et mse et les retourner"
   ]
  },
  {
   "cell_type": "code",
   "execution_count": 31,
   "id": "234bff84",
   "metadata": {},
   "outputs": [
    {
     "name": "stdout",
     "output_type": "stream",
     "text": [
      "MSE (manuel) : 0.2299318893415373\n",
      "R2 (manuel) : 0.8382989618935877\n"
     ]
    }
   ],
   "source": [
    "def evaluer(y_hat, y_test):\n",
    "    mse = np.mean((y_hat - y_test) ** 2)\n",
    "    r2 = 1 - (np.sum((y_hat - y_test) ** 2) / np.sum((y_test - np.mean(y_test)) ** 2))\n",
    "    return mse, r2\n",
    "\n",
    "# Utiliser la fonction evaluer pour calculer r2 et mse\n",
    "mse_manual, r2_manual = evaluer(predict1(x_test), y_test)\n",
    "print(\"MSE (manuel) :\", mse_manual)\n",
    "print(\"R2 (manuel) :\", r2_manual)"
   ]
  },
  {
   "cell_type": "markdown",
   "id": "502db609-141d-4a48-9220-bba91eafe877",
   "metadata": {},
   "source": [
    "# Partie 2 :  création du modèle sans utiliser sklearn"
   ]
  },
  {
   "cell_type": "markdown",
   "id": "d0fb4d1a-c9ab-49a5-a583-cdba53727836",
   "metadata": {},
   "source": [
    "### 1.\tL’objectif est de créer notre propre fonction fit(X,y) qui se base sur l’algorithme de gradient descent"
   ]
  },
  {
   "cell_type": "markdown",
   "id": "de309352-5dc8-4015-b2b1-3ad6aa04bfd1",
   "metadata": {},
   "source": [
    "#### a.\tCe que c’est l’algorithme de gradient descent ?"
   ]
  },
  {
   "cell_type": "markdown",
   "id": "55805c07-0ec6-43bb-946a-12fbde0857ca",
   "metadata": {},
   "source": [
    "L'algorithme de Gradient Descent (Descente de Gradient) est une méthode d'optimisation utilisée pour minimiser une fonction objectif, souvent une fonction de coût, en ajustant les paramètres du modèle. Dans le contexte des régressions linéaires, il est utilisé pour minimiser l'erreur entre les prédictions du modèle et les valeurs réelles."
   ]
  },
  {
   "cell_type": "markdown",
   "id": "df04e13d-f595-4bd6-bce0-65324dabc00b",
   "metadata": {},
   "source": [
    "#### b.\tQuelles sont les principales étapes de l’algorithme ?"
   ]
  },
  {
   "cell_type": "markdown",
   "id": "049da1ec-1ca9-427b-97c9-c5102c47fb83",
   "metadata": {},
   "source": [
    "1. **Initialisation** : Commencer avec des valeurs initiales pour les paramètres \\( \\theta \\) (par exemple, des zéros).\n",
    "2. **Calcul du Gradient** : Calculer le gradient de la fonction de coût par rapport à chaque paramètre \\( \\theta \\).\n",
    "3. **Mise à Jour des Paramètres** : Mettre à jour les paramètres \\( \\theta \\) en les ajustant dans la direction opposée au gradient.\n",
    "4. **Répétition** : Répéter les étapes de calcul du gradient et de mise à jour des paramètres jusqu'à ce que la fonction de coût converge (les changements deviennent très petits) ou qu'un nombre maximal d'itérations soit atteint."
   ]
  },
  {
   "cell_type": "markdown",
   "id": "bad843ab-eb15-4e4e-a7d9-683c38593238",
   "metadata": {},
   "source": [
    "#### c.\tÉcrire le code source de cette fonction afin de trouver les paramètres du modèle"
   ]
  },
  {
   "cell_type": "code",
   "execution_count": 32,
   "id": "d57ca36d-fdaf-4b09-917a-20f41c3e5136",
   "metadata": {},
   "outputs": [],
   "source": [
    "import numpy as np\n",
    "\n",
    "def fit(X, y, learning_rate=0.01, iterations=1000):\n",
    "    m, n = X.shape\n",
    "    X = np.c_[np.ones(m), X]  \n",
    "    theta = np.zeros(n + 1)   \n",
    "    \n",
    "    for i in range(iterations):\n",
    "        gradients = 2/m * X.T.dot(X.dot(theta) - y)\n",
    "        theta -= learning_rate * gradients\n",
    "    \n",
    "    return theta"
   ]
  },
  {
   "cell_type": "markdown",
   "id": "9045cb8d-5289-4126-82c5-0d27fa138731",
   "metadata": {},
   "source": [
    "#### d.\tEn utilisant la fonction fit, trouver les paramètres du modèle"
   ]
  },
  {
   "cell_type": "code",
   "execution_count": 33,
   "id": "9c03575b-1bd6-4b10-890b-106a50a58ebb",
   "metadata": {},
   "outputs": [
    {
     "name": "stdout",
     "output_type": "stream",
     "text": [
      "Paramètres du modèle (gradient descent) : [ 0.2024969   0.36401731  0.38150076  1.67149605  0.30462462 -0.60238064]\n"
     ]
    }
   ],
   "source": [
    "theta = fit(x_train, y_train)\n",
    "print(\"Paramètres du modèle (gradient descent) :\", theta)"
   ]
  },
  {
   "cell_type": "markdown",
   "id": "7aa71a1a-f897-4c62-877e-db0449c3ec20",
   "metadata": {},
   "source": [
    "#### e.\tEn utilisant les paramètres trouvés, calculer la prédiction à l’aide de la fonction predict1 "
   ]
  },
  {
   "cell_type": "code",
   "execution_count": 34,
   "id": "ca631a52-583c-4aa5-ad1d-ae544a939482",
   "metadata": {},
   "outputs": [],
   "source": [
    "def predict1(x, theta):\n",
    "    x = np.c_[np.ones(x.shape[0]), x] \n",
    "    return x.dot(theta)"
   ]
  },
  {
   "cell_type": "code",
   "execution_count": 35,
   "id": "0d723948-7b23-4fdd-b284-a0a03bbf72ef",
   "metadata": {},
   "outputs": [
    {
     "name": "stdout",
     "output_type": "stream",
     "text": [
      "Prédictions (gradient descent) pour x_test : [ 1.67428108  2.51528053  2.70129446  2.06400192  1.31545225  1.30931988\n",
      " -0.06417559  0.62978286  4.72722353  1.74624071  2.38923491  2.71896317\n",
      "  3.62634669  1.2968533   2.21627432  1.1739459   4.18308041  0.51148774\n",
      "  1.19590465  3.12574423  4.08650697  1.21549275  0.22240099  2.35928335\n",
      "  0.58466828  1.69084011  2.10957873  2.55340003  0.93647911  0.8792516\n",
      "  0.59583534  1.49750735  1.59815182  1.66959609  1.73561149  1.28240818\n",
      "  2.68470953  3.24060322  1.13673126  1.11338293  1.62818959  0.86618247\n",
      "  1.00603474  1.2064866   0.93154942  3.4299499   0.17777165  0.2874426\n",
      "  2.14910491  1.48818015  2.00601043  5.13881909  3.3573048   1.9622398\n",
      "  2.41352956  3.69379536  5.34620147  2.01107784  3.70649715  4.07471928\n",
      "  2.37366427  1.14027038  2.10730546  2.25810269  0.55307242  1.32754822\n",
      "  1.30845704  0.44284446  2.71533252  3.07969064  1.87965621  3.45700582\n",
      "  1.06725395  1.47690977  3.16883408  1.36683639  2.17032886  2.51419657\n",
      "  3.14622805  0.70059318  2.1761869   1.39802786  3.53626634  1.34717828\n",
      "  4.28578542  1.2472235   1.77519906  2.23342672  4.2571999   2.41665271\n",
      "  2.01954508  1.32505217  2.22118291  1.14981534  0.66051183  4.32623281\n",
      "  3.02515208  2.53090538  1.02363829  1.50617646  3.34787903  1.23322604\n",
      "  1.15489589  2.31267894  1.01142091  1.76364469  0.53218674  3.25567037\n",
      "  2.7813609   1.80998675  1.93155524 -0.20055258  1.27929439  1.35015122\n",
      "  0.24307404 -0.11225499  0.39215613  1.0092713   2.93378044  3.67186849\n",
      "  1.93264242  0.69499915  1.87523057  1.13623917  0.65239731  3.1009289\n",
      "  2.70092847  1.86056754  3.72524619  2.09825166  1.94232987  2.31818538\n",
      "  1.62586394  3.58255268  1.46251141  2.34978234 -0.12055136  1.17509481\n",
      "  1.19901752  0.85426623  1.57864544  1.68530032  1.07000705  0.75185413\n",
      "  1.13796724  1.36255707  2.0612456   2.13725634 -0.35360397  3.38534544\n",
      "  3.17591732  4.38239614  1.89477884  2.82046807  1.47827488  3.73208534\n",
      "  1.3945773   2.97806155  3.1284045  -0.14990235  3.05267491  0.2643434\n",
      "  0.82790998  1.19706142  1.32477158  1.43262149  1.96097926  1.65347715\n",
      "  2.33787049  1.14481158  1.88482028  0.89279567  2.5878201   1.35667519\n",
      "  0.54629313 -0.40964292  2.4062646   0.74460576  3.98979336  0.96076968\n",
      "  2.23172984  0.68803554  2.79000532  0.25787478  1.75503799  2.0096625\n",
      "  1.90338566  0.63259686  0.9642704   1.7077965   1.81639359  0.49553294\n",
      "  0.88833433  2.05138772  0.57126628  2.24469496  2.12861341  1.28518664\n",
      "  1.86098014  2.41301433]\n"
     ]
    }
   ],
   "source": [
    "# Calculer les prédictions pour X_test\n",
    "y_pred_gd = predict1(x_test, theta)\n",
    "print(\"Prédictions (gradient descent) pour x_test :\", y_pred_gd)"
   ]
  },
  {
   "cell_type": "markdown",
   "id": "66d43358-a98d-4607-b77f-ec15436823f4",
   "metadata": {},
   "source": [
    "#### f.\tÉvaluer la performance du modèle trouvé"
   ]
  },
  {
   "cell_type": "code",
   "execution_count": 36,
   "id": "d1abb94a-9c28-47b4-b86e-f2505936b5bc",
   "metadata": {},
   "outputs": [],
   "source": [
    "def evaluer(y_hat, y_test):\n",
    "    mse = np.mean((y_hat - y_test) ** 2)\n",
    "    r2 = 1 - (np.sum((y_hat - y_test) ** 2) / np.sum((y_test - np.mean(y_test)) ** 2))\n",
    "    return mse, r2\n"
   ]
  },
  {
   "cell_type": "code",
   "execution_count": 37,
   "id": "e65f1cdf-4434-406a-af5a-2b6db5ef8d51",
   "metadata": {},
   "outputs": [
    {
     "name": "stdout",
     "output_type": "stream",
     "text": [
      "MSE (gradient descent) : 0.22918707258608906\n",
      "R2 (gradient descent) : 0.8388227589314841\n"
     ]
    }
   ],
   "source": [
    "# Évaluation de la performance du modèle\n",
    "mse_gd, r2_gd = evaluer(y_pred_gd, y_test)\n",
    "print(\"MSE (gradient descent) :\", mse_gd)\n",
    "print(\"R2 (gradient descent) :\", r2_gd)"
   ]
  },
  {
   "cell_type": "markdown",
   "id": "18855bf4-b76c-46a0-bbda-e0130ae1089d",
   "metadata": {},
   "source": [
    "#### g.\tComparer sa performance avec celle du modèle trouvé à l’aide de sklearn.\n",
    "\n"
   ]
  },
  {
   "cell_type": "code",
   "execution_count": 40,
   "id": "6957a795",
   "metadata": {},
   "outputs": [
    {
     "name": "stdout",
     "output_type": "stream",
     "text": [
      "MSE (sklearn) : 0.2299318893415373\n",
      "R2 (sklearn) : 0.8382989618935877\n"
     ]
    }
   ],
   "source": [
    "# Créer et entraîner le modèle sklearn\n",
    "model = LinearRegression()\n",
    "model.fit(x_train, y_train)\n",
    "y_pred_sklearn = model.predict(x_test)\n",
    "\n",
    "# Évaluer la performance du modèle sklearn\n",
    "mse_sklearn = mean_squared_error(y_test, y_pred_sklearn)\n",
    "r2_sklearn = r2_score(y_test, y_pred_sklearn)\n",
    "\n",
    "print(\"MSE (sklearn) :\", mse_sklearn)\n",
    "print(\"R2 (sklearn) :\", r2_sklearn)\n"
   ]
  },
  {
   "cell_type": "code",
   "execution_count": 41,
   "id": "d092af25",
   "metadata": {},
   "outputs": [
    {
     "name": "stdout",
     "output_type": "stream",
     "text": [
      "Performance du modèle (Gradient Descent) : MSE = 0.22918707258608906, R2 = 0.8388227589314841\n",
      "Performance du modèle (sklearn) : MSE = 0.2299318893415373, R2 = 0.8382989618935877\n"
     ]
    }
   ],
   "source": [
    "print(f\"Performance du modèle (Gradient Descent) : MSE = {mse_gd}, R2 = {r2_gd}\")\n",
    "print(f\"Performance du modèle (sklearn) : MSE = {mse_sklearn}, R2 = {r2_sklearn}\")"
   ]
  },
  {
   "cell_type": "markdown",
   "id": "391ea22e",
   "metadata": {},
   "source": [
    "<h1>Projet de classification</h1>"
   ]
  },
  {
   "cell_type": "markdown",
   "id": "f88cbb55-7ff6-4bcd-9aff-b7023c92cef3",
   "metadata": {},
   "source": [
    "### 1.\tDataset :"
   ]
  },
  {
   "cell_type": "markdown",
   "id": "0c052a05-c4cd-45db-ac67-61e136ffd272",
   "metadata": {},
   "source": [
    "#### a.\tTélécharger le dataset « heart.csv »"
   ]
  },
  {
   "cell_type": "markdown",
   "id": "9fac844a-0066-4a73-b86d-1876e8463bc3",
   "metadata": {},
   "source": [
    "#### b.\tÀ l’aide de pandas, ouvrir le dataset « heart.csv »"
   ]
  },
  {
   "cell_type": "code",
   "execution_count": 66,
   "id": "585ff7f2-f2a1-412a-a70c-87bf397f7271",
   "metadata": {},
   "outputs": [],
   "source": [
    "df2 = pd.read_csv('heart.csv')"
   ]
  },
  {
   "cell_type": "markdown",
   "id": "2f7979d3-35db-48f9-8a91-f27e784196e5",
   "metadata": {},
   "source": [
    "#### c.\tAfficher l’entête du dataset. Utiliser head(10)."
   ]
  },
  {
   "cell_type": "code",
   "execution_count": 67,
   "id": "7014a570-bcbd-4384-a171-e7f87e042290",
   "metadata": {},
   "outputs": [
    {
     "data": {
      "text/html": [
       "<div>\n",
       "<style scoped>\n",
       "    .dataframe tbody tr th:only-of-type {\n",
       "        vertical-align: middle;\n",
       "    }\n",
       "\n",
       "    .dataframe tbody tr th {\n",
       "        vertical-align: top;\n",
       "    }\n",
       "\n",
       "    .dataframe thead th {\n",
       "        text-align: right;\n",
       "    }\n",
       "</style>\n",
       "<table border=\"1\" class=\"dataframe\">\n",
       "  <thead>\n",
       "    <tr style=\"text-align: right;\">\n",
       "      <th></th>\n",
       "      <th>age</th>\n",
       "      <th>sex</th>\n",
       "      <th>cp</th>\n",
       "      <th>trtbps</th>\n",
       "      <th>chol</th>\n",
       "      <th>fbs</th>\n",
       "      <th>restecg</th>\n",
       "      <th>thalachh</th>\n",
       "      <th>exng</th>\n",
       "      <th>oldpeak</th>\n",
       "      <th>slp</th>\n",
       "      <th>caa</th>\n",
       "      <th>thall</th>\n",
       "      <th>output</th>\n",
       "    </tr>\n",
       "  </thead>\n",
       "  <tbody>\n",
       "    <tr>\n",
       "      <th>0</th>\n",
       "      <td>63</td>\n",
       "      <td>1</td>\n",
       "      <td>3</td>\n",
       "      <td>145</td>\n",
       "      <td>233</td>\n",
       "      <td>1</td>\n",
       "      <td>0</td>\n",
       "      <td>150</td>\n",
       "      <td>0</td>\n",
       "      <td>2.3</td>\n",
       "      <td>0</td>\n",
       "      <td>0</td>\n",
       "      <td>1</td>\n",
       "      <td>1</td>\n",
       "    </tr>\n",
       "    <tr>\n",
       "      <th>1</th>\n",
       "      <td>37</td>\n",
       "      <td>1</td>\n",
       "      <td>2</td>\n",
       "      <td>130</td>\n",
       "      <td>250</td>\n",
       "      <td>0</td>\n",
       "      <td>1</td>\n",
       "      <td>187</td>\n",
       "      <td>0</td>\n",
       "      <td>3.5</td>\n",
       "      <td>0</td>\n",
       "      <td>0</td>\n",
       "      <td>2</td>\n",
       "      <td>1</td>\n",
       "    </tr>\n",
       "    <tr>\n",
       "      <th>2</th>\n",
       "      <td>41</td>\n",
       "      <td>0</td>\n",
       "      <td>1</td>\n",
       "      <td>130</td>\n",
       "      <td>204</td>\n",
       "      <td>0</td>\n",
       "      <td>0</td>\n",
       "      <td>172</td>\n",
       "      <td>0</td>\n",
       "      <td>1.4</td>\n",
       "      <td>2</td>\n",
       "      <td>0</td>\n",
       "      <td>2</td>\n",
       "      <td>1</td>\n",
       "    </tr>\n",
       "    <tr>\n",
       "      <th>3</th>\n",
       "      <td>56</td>\n",
       "      <td>1</td>\n",
       "      <td>1</td>\n",
       "      <td>120</td>\n",
       "      <td>236</td>\n",
       "      <td>0</td>\n",
       "      <td>1</td>\n",
       "      <td>178</td>\n",
       "      <td>0</td>\n",
       "      <td>0.8</td>\n",
       "      <td>2</td>\n",
       "      <td>0</td>\n",
       "      <td>2</td>\n",
       "      <td>1</td>\n",
       "    </tr>\n",
       "    <tr>\n",
       "      <th>4</th>\n",
       "      <td>57</td>\n",
       "      <td>0</td>\n",
       "      <td>0</td>\n",
       "      <td>120</td>\n",
       "      <td>354</td>\n",
       "      <td>0</td>\n",
       "      <td>1</td>\n",
       "      <td>163</td>\n",
       "      <td>1</td>\n",
       "      <td>0.6</td>\n",
       "      <td>2</td>\n",
       "      <td>0</td>\n",
       "      <td>2</td>\n",
       "      <td>1</td>\n",
       "    </tr>\n",
       "    <tr>\n",
       "      <th>5</th>\n",
       "      <td>57</td>\n",
       "      <td>1</td>\n",
       "      <td>0</td>\n",
       "      <td>140</td>\n",
       "      <td>192</td>\n",
       "      <td>0</td>\n",
       "      <td>1</td>\n",
       "      <td>148</td>\n",
       "      <td>0</td>\n",
       "      <td>0.4</td>\n",
       "      <td>1</td>\n",
       "      <td>0</td>\n",
       "      <td>1</td>\n",
       "      <td>1</td>\n",
       "    </tr>\n",
       "    <tr>\n",
       "      <th>6</th>\n",
       "      <td>56</td>\n",
       "      <td>0</td>\n",
       "      <td>1</td>\n",
       "      <td>140</td>\n",
       "      <td>294</td>\n",
       "      <td>0</td>\n",
       "      <td>0</td>\n",
       "      <td>153</td>\n",
       "      <td>0</td>\n",
       "      <td>1.3</td>\n",
       "      <td>1</td>\n",
       "      <td>0</td>\n",
       "      <td>2</td>\n",
       "      <td>1</td>\n",
       "    </tr>\n",
       "    <tr>\n",
       "      <th>7</th>\n",
       "      <td>44</td>\n",
       "      <td>1</td>\n",
       "      <td>1</td>\n",
       "      <td>120</td>\n",
       "      <td>263</td>\n",
       "      <td>0</td>\n",
       "      <td>1</td>\n",
       "      <td>173</td>\n",
       "      <td>0</td>\n",
       "      <td>0.0</td>\n",
       "      <td>2</td>\n",
       "      <td>0</td>\n",
       "      <td>3</td>\n",
       "      <td>1</td>\n",
       "    </tr>\n",
       "    <tr>\n",
       "      <th>8</th>\n",
       "      <td>52</td>\n",
       "      <td>1</td>\n",
       "      <td>2</td>\n",
       "      <td>172</td>\n",
       "      <td>199</td>\n",
       "      <td>1</td>\n",
       "      <td>1</td>\n",
       "      <td>162</td>\n",
       "      <td>0</td>\n",
       "      <td>0.5</td>\n",
       "      <td>2</td>\n",
       "      <td>0</td>\n",
       "      <td>3</td>\n",
       "      <td>1</td>\n",
       "    </tr>\n",
       "    <tr>\n",
       "      <th>9</th>\n",
       "      <td>57</td>\n",
       "      <td>1</td>\n",
       "      <td>2</td>\n",
       "      <td>150</td>\n",
       "      <td>168</td>\n",
       "      <td>0</td>\n",
       "      <td>1</td>\n",
       "      <td>174</td>\n",
       "      <td>0</td>\n",
       "      <td>1.6</td>\n",
       "      <td>2</td>\n",
       "      <td>0</td>\n",
       "      <td>2</td>\n",
       "      <td>1</td>\n",
       "    </tr>\n",
       "  </tbody>\n",
       "</table>\n",
       "</div>"
      ],
      "text/plain": [
       "   age  sex  cp  trtbps  chol  fbs  restecg  thalachh  exng  oldpeak  slp  \\\n",
       "0   63    1   3     145   233    1        0       150     0      2.3    0   \n",
       "1   37    1   2     130   250    0        1       187     0      3.5    0   \n",
       "2   41    0   1     130   204    0        0       172     0      1.4    2   \n",
       "3   56    1   1     120   236    0        1       178     0      0.8    2   \n",
       "4   57    0   0     120   354    0        1       163     1      0.6    2   \n",
       "5   57    1   0     140   192    0        1       148     0      0.4    1   \n",
       "6   56    0   1     140   294    0        0       153     0      1.3    1   \n",
       "7   44    1   1     120   263    0        1       173     0      0.0    2   \n",
       "8   52    1   2     172   199    1        1       162     0      0.5    2   \n",
       "9   57    1   2     150   168    0        1       174     0      1.6    2   \n",
       "\n",
       "   caa  thall  output  \n",
       "0    0      1       1  \n",
       "1    0      2       1  \n",
       "2    0      2       1  \n",
       "3    0      2       1  \n",
       "4    0      2       1  \n",
       "5    0      1       1  \n",
       "6    0      2       1  \n",
       "7    0      3       1  \n",
       "8    0      3       1  \n",
       "9    0      2       1  "
      ]
     },
     "execution_count": 67,
     "metadata": {},
     "output_type": "execute_result"
    }
   ],
   "source": [
    "df2.head(10)"
   ]
  },
  {
   "cell_type": "markdown",
   "id": "f46866fd-cc46-4f4b-9d1d-9ce1f4f181be",
   "metadata": {},
   "source": [
    "#### d.\tAfficher le type de données des colonnes du dataset"
   ]
  },
  {
   "cell_type": "code",
   "execution_count": 68,
   "id": "b7b36bd2-8309-4060-9cbe-b7543832796b",
   "metadata": {},
   "outputs": [
    {
     "name": "stdout",
     "output_type": "stream",
     "text": [
      "age           int64\n",
      "sex           int64\n",
      "cp            int64\n",
      "trtbps        int64\n",
      "chol          int64\n",
      "fbs           int64\n",
      "restecg       int64\n",
      "thalachh      int64\n",
      "exng          int64\n",
      "oldpeak     float64\n",
      "slp           int64\n",
      "caa           int64\n",
      "thall         int64\n",
      "output        int64\n",
      "dtype: object\n"
     ]
    }
   ],
   "source": [
    "print(df2.dtypes)"
   ]
  },
  {
   "cell_type": "markdown",
   "id": "5fce2b1f-6170-4b5c-8baf-57a24fe4289a",
   "metadata": {},
   "source": [
    "#### e.\tAfficher les dimensions du dataset (nombre de lignes, nombre de colonnes)"
   ]
  },
  {
   "cell_type": "code",
   "execution_count": 69,
   "id": "17ae1e67-5a00-46ce-b892-da36ff02cbde",
   "metadata": {},
   "outputs": [
    {
     "name": "stdout",
     "output_type": "stream",
     "text": [
      "(303, 14)\n"
     ]
    }
   ],
   "source": [
    "print(df2.shape)"
   ]
  },
  {
   "cell_type": "markdown",
   "id": "7ecd82b4-a9e2-48e9-ac4e-04c307c111d3",
   "metadata": {},
   "source": [
    "### 2.\tType de problème"
   ]
  },
  {
   "cell_type": "markdown",
   "id": "a7fdc778-7c53-4abe-abbb-ff547232be4e",
   "metadata": {},
   "source": [
    "#### a.\tPourquoi il s’agit d’un problème de classification ?"
   ]
  },
  {
   "cell_type": "markdown",
   "id": "8b91dd32-f110-4eaa-87d3-5d6ad4f1002e",
   "metadata": {},
   "source": [
    "C'est un problème de classification car la colonne output (la cible) contient des valeurs discrètes indiquant la présence (1) ou l'absence (0) d'une maladie cardiaque."
   ]
  },
  {
   "cell_type": "markdown",
   "id": "bd30bd99-afe8-434e-a579-6469b9d0112d",
   "metadata": {},
   "source": [
    "### 3.\tFeatures selection"
   ]
  },
  {
   "cell_type": "markdown",
   "id": "276844b9-535a-421d-90ef-fc7a8a8825e3",
   "metadata": {},
   "source": [
    "### a.\tCombien de features existe dans ce dataset ?"
   ]
  },
  {
   "cell_type": "code",
   "execution_count": 70,
   "id": "6bd6d788",
   "metadata": {},
   "outputs": [
    {
     "name": "stdout",
     "output_type": "stream",
     "text": [
      "Nombre de features : 13\n"
     ]
    }
   ],
   "source": [
    "n_features = df2.shape[1] - 1\n",
    "print(f\"Nombre de features : {n_features}\")\n"
   ]
  },
  {
   "cell_type": "code",
   "execution_count": 71,
   "id": "3426ae44",
   "metadata": {},
   "outputs": [
    {
     "name": "stdout",
     "output_type": "stream",
     "text": [
      "Index(['age', 'sex', 'cp', 'trtbps', 'chol', 'fbs', 'restecg', 'thalachh',\n",
      "       'exng', 'oldpeak', 'slp', 'caa', 'thall', 'output'],\n",
      "      dtype='object')\n"
     ]
    }
   ],
   "source": [
    "print(df2.columns)"
   ]
  },
  {
   "cell_type": "markdown",
   "id": "e2b7b023-3f52-4ed5-ae6e-c8c79f46d8d3",
   "metadata": {},
   "source": [
    "### b.\tExtraire la partie features : x"
   ]
  },
  {
   "cell_type": "code",
   "execution_count": 72,
   "id": "b84d2a82-9e47-421d-adeb-7545a5c9bb81",
   "metadata": {},
   "outputs": [
    {
     "data": {
      "text/html": [
       "<div>\n",
       "<style scoped>\n",
       "    .dataframe tbody tr th:only-of-type {\n",
       "        vertical-align: middle;\n",
       "    }\n",
       "\n",
       "    .dataframe tbody tr th {\n",
       "        vertical-align: top;\n",
       "    }\n",
       "\n",
       "    .dataframe thead th {\n",
       "        text-align: right;\n",
       "    }\n",
       "</style>\n",
       "<table border=\"1\" class=\"dataframe\">\n",
       "  <thead>\n",
       "    <tr style=\"text-align: right;\">\n",
       "      <th></th>\n",
       "      <th>age</th>\n",
       "      <th>sex</th>\n",
       "      <th>cp</th>\n",
       "      <th>trtbps</th>\n",
       "      <th>chol</th>\n",
       "      <th>fbs</th>\n",
       "      <th>restecg</th>\n",
       "      <th>thalachh</th>\n",
       "      <th>exng</th>\n",
       "      <th>oldpeak</th>\n",
       "      <th>slp</th>\n",
       "      <th>caa</th>\n",
       "      <th>thall</th>\n",
       "    </tr>\n",
       "  </thead>\n",
       "  <tbody>\n",
       "    <tr>\n",
       "      <th>0</th>\n",
       "      <td>63</td>\n",
       "      <td>1</td>\n",
       "      <td>3</td>\n",
       "      <td>145</td>\n",
       "      <td>233</td>\n",
       "      <td>1</td>\n",
       "      <td>0</td>\n",
       "      <td>150</td>\n",
       "      <td>0</td>\n",
       "      <td>2.3</td>\n",
       "      <td>0</td>\n",
       "      <td>0</td>\n",
       "      <td>1</td>\n",
       "    </tr>\n",
       "    <tr>\n",
       "      <th>1</th>\n",
       "      <td>37</td>\n",
       "      <td>1</td>\n",
       "      <td>2</td>\n",
       "      <td>130</td>\n",
       "      <td>250</td>\n",
       "      <td>0</td>\n",
       "      <td>1</td>\n",
       "      <td>187</td>\n",
       "      <td>0</td>\n",
       "      <td>3.5</td>\n",
       "      <td>0</td>\n",
       "      <td>0</td>\n",
       "      <td>2</td>\n",
       "    </tr>\n",
       "    <tr>\n",
       "      <th>2</th>\n",
       "      <td>41</td>\n",
       "      <td>0</td>\n",
       "      <td>1</td>\n",
       "      <td>130</td>\n",
       "      <td>204</td>\n",
       "      <td>0</td>\n",
       "      <td>0</td>\n",
       "      <td>172</td>\n",
       "      <td>0</td>\n",
       "      <td>1.4</td>\n",
       "      <td>2</td>\n",
       "      <td>0</td>\n",
       "      <td>2</td>\n",
       "    </tr>\n",
       "    <tr>\n",
       "      <th>3</th>\n",
       "      <td>56</td>\n",
       "      <td>1</td>\n",
       "      <td>1</td>\n",
       "      <td>120</td>\n",
       "      <td>236</td>\n",
       "      <td>0</td>\n",
       "      <td>1</td>\n",
       "      <td>178</td>\n",
       "      <td>0</td>\n",
       "      <td>0.8</td>\n",
       "      <td>2</td>\n",
       "      <td>0</td>\n",
       "      <td>2</td>\n",
       "    </tr>\n",
       "    <tr>\n",
       "      <th>4</th>\n",
       "      <td>57</td>\n",
       "      <td>0</td>\n",
       "      <td>0</td>\n",
       "      <td>120</td>\n",
       "      <td>354</td>\n",
       "      <td>0</td>\n",
       "      <td>1</td>\n",
       "      <td>163</td>\n",
       "      <td>1</td>\n",
       "      <td>0.6</td>\n",
       "      <td>2</td>\n",
       "      <td>0</td>\n",
       "      <td>2</td>\n",
       "    </tr>\n",
       "    <tr>\n",
       "      <th>...</th>\n",
       "      <td>...</td>\n",
       "      <td>...</td>\n",
       "      <td>...</td>\n",
       "      <td>...</td>\n",
       "      <td>...</td>\n",
       "      <td>...</td>\n",
       "      <td>...</td>\n",
       "      <td>...</td>\n",
       "      <td>...</td>\n",
       "      <td>...</td>\n",
       "      <td>...</td>\n",
       "      <td>...</td>\n",
       "      <td>...</td>\n",
       "    </tr>\n",
       "    <tr>\n",
       "      <th>298</th>\n",
       "      <td>57</td>\n",
       "      <td>0</td>\n",
       "      <td>0</td>\n",
       "      <td>140</td>\n",
       "      <td>241</td>\n",
       "      <td>0</td>\n",
       "      <td>1</td>\n",
       "      <td>123</td>\n",
       "      <td>1</td>\n",
       "      <td>0.2</td>\n",
       "      <td>1</td>\n",
       "      <td>0</td>\n",
       "      <td>3</td>\n",
       "    </tr>\n",
       "    <tr>\n",
       "      <th>299</th>\n",
       "      <td>45</td>\n",
       "      <td>1</td>\n",
       "      <td>3</td>\n",
       "      <td>110</td>\n",
       "      <td>264</td>\n",
       "      <td>0</td>\n",
       "      <td>1</td>\n",
       "      <td>132</td>\n",
       "      <td>0</td>\n",
       "      <td>1.2</td>\n",
       "      <td>1</td>\n",
       "      <td>0</td>\n",
       "      <td>3</td>\n",
       "    </tr>\n",
       "    <tr>\n",
       "      <th>300</th>\n",
       "      <td>68</td>\n",
       "      <td>1</td>\n",
       "      <td>0</td>\n",
       "      <td>144</td>\n",
       "      <td>193</td>\n",
       "      <td>1</td>\n",
       "      <td>1</td>\n",
       "      <td>141</td>\n",
       "      <td>0</td>\n",
       "      <td>3.4</td>\n",
       "      <td>1</td>\n",
       "      <td>2</td>\n",
       "      <td>3</td>\n",
       "    </tr>\n",
       "    <tr>\n",
       "      <th>301</th>\n",
       "      <td>57</td>\n",
       "      <td>1</td>\n",
       "      <td>0</td>\n",
       "      <td>130</td>\n",
       "      <td>131</td>\n",
       "      <td>0</td>\n",
       "      <td>1</td>\n",
       "      <td>115</td>\n",
       "      <td>1</td>\n",
       "      <td>1.2</td>\n",
       "      <td>1</td>\n",
       "      <td>1</td>\n",
       "      <td>3</td>\n",
       "    </tr>\n",
       "    <tr>\n",
       "      <th>302</th>\n",
       "      <td>57</td>\n",
       "      <td>0</td>\n",
       "      <td>1</td>\n",
       "      <td>130</td>\n",
       "      <td>236</td>\n",
       "      <td>0</td>\n",
       "      <td>0</td>\n",
       "      <td>174</td>\n",
       "      <td>0</td>\n",
       "      <td>0.0</td>\n",
       "      <td>1</td>\n",
       "      <td>1</td>\n",
       "      <td>2</td>\n",
       "    </tr>\n",
       "  </tbody>\n",
       "</table>\n",
       "<p>303 rows × 13 columns</p>\n",
       "</div>"
      ],
      "text/plain": [
       "     age  sex  cp  trtbps  chol  fbs  restecg  thalachh  exng  oldpeak  slp  \\\n",
       "0     63    1   3     145   233    1        0       150     0      2.3    0   \n",
       "1     37    1   2     130   250    0        1       187     0      3.5    0   \n",
       "2     41    0   1     130   204    0        0       172     0      1.4    2   \n",
       "3     56    1   1     120   236    0        1       178     0      0.8    2   \n",
       "4     57    0   0     120   354    0        1       163     1      0.6    2   \n",
       "..   ...  ...  ..     ...   ...  ...      ...       ...   ...      ...  ...   \n",
       "298   57    0   0     140   241    0        1       123     1      0.2    1   \n",
       "299   45    1   3     110   264    0        1       132     0      1.2    1   \n",
       "300   68    1   0     144   193    1        1       141     0      3.4    1   \n",
       "301   57    1   0     130   131    0        1       115     1      1.2    1   \n",
       "302   57    0   1     130   236    0        0       174     0      0.0    1   \n",
       "\n",
       "     caa  thall  \n",
       "0      0      1  \n",
       "1      0      2  \n",
       "2      0      2  \n",
       "3      0      2  \n",
       "4      0      2  \n",
       "..   ...    ...  \n",
       "298    0      3  \n",
       "299    0      3  \n",
       "300    2      3  \n",
       "301    1      3  \n",
       "302    1      2  \n",
       "\n",
       "[303 rows x 13 columns]"
      ]
     },
     "execution_count": 72,
     "metadata": {},
     "output_type": "execute_result"
    }
   ],
   "source": [
    "x = df2.drop('output', axis=1)\n",
    "x"
   ]
  },
  {
   "cell_type": "markdown",
   "id": "767e1705-eb59-4834-86a9-ab6de001582c",
   "metadata": {},
   "source": [
    "### c.\tExtraire la target : y"
   ]
  },
  {
   "cell_type": "code",
   "execution_count": 73,
   "id": "c164f6a4-fd4a-4ff2-ac3e-fff9e7c0394e",
   "metadata": {},
   "outputs": [
    {
     "data": {
      "text/plain": [
       "0      1\n",
       "1      1\n",
       "2      1\n",
       "3      1\n",
       "4      1\n",
       "      ..\n",
       "298    0\n",
       "299    0\n",
       "300    0\n",
       "301    0\n",
       "302    0\n",
       "Name: output, Length: 303, dtype: int64"
      ]
     },
     "execution_count": 73,
     "metadata": {},
     "output_type": "execute_result"
    }
   ],
   "source": [
    "y = df2['output']\n",
    "y"
   ]
  },
  {
   "cell_type": "markdown",
   "id": "6a7e7293-fac7-4a38-a2d2-c820a7474ef7",
   "metadata": {},
   "source": [
    "### 4.\tEncodage des variables catégorielles"
   ]
  },
  {
   "cell_type": "markdown",
   "id": "d2731bc5-0b47-41d5-9f32-8fefe93ef532",
   "metadata": {},
   "source": [
    "### a.\tPourquoi la vérification de type de variable est une phase importante ?\n"
   ]
  },
  {
   "cell_type": "markdown",
   "id": "859b2991-0cd0-4f81-87d6-dd54de7a8869",
   "metadata": {},
   "source": [
    "La vérification du type de variable est importante pour savoir quelles variables doivent être encodées. Dans ce dataset, les variables catégorielles sont `sex`, `cp`, `fbs`, `restecg`, `exng`, `slp`, `caa`, et `thall`."
   ]
  },
  {
   "cell_type": "markdown",
   "id": "a9758149-01c3-43cf-b564-f4756fe08071",
   "metadata": {},
   "source": [
    "### b.\tÉcrire le code source qui permet d’afficher le type de chaque feature"
   ]
  },
  {
   "cell_type": "code",
   "execution_count": 74,
   "id": "5cfe5e98-1685-40fb-b817-e26d6d535369",
   "metadata": {},
   "outputs": [
    {
     "name": "stdout",
     "output_type": "stream",
     "text": [
      "age           int64\n",
      "sex           int64\n",
      "cp            int64\n",
      "trtbps        int64\n",
      "chol          int64\n",
      "fbs           int64\n",
      "restecg       int64\n",
      "thalachh      int64\n",
      "exng          int64\n",
      "oldpeak     float64\n",
      "slp           int64\n",
      "caa           int64\n",
      "thall         int64\n",
      "dtype: object\n"
     ]
    }
   ],
   "source": [
    "print(x.dtypes)"
   ]
  },
  {
   "cell_type": "markdown",
   "id": "4bd55162-01b8-422f-a422-f72eedf2e2d6",
   "metadata": {},
   "source": [
    "#### c.\tPour ce dataset, est ce qu’il y a des variables à encoder ? si oui, effectuer l’encodage adéquat"
   ]
  },
  {
   "cell_type": "code",
   "execution_count": 75,
   "id": "e4d6173d-d339-427e-bcae-03480b3dc2df",
   "metadata": {},
   "outputs": [],
   "source": [
    "# Encodage les variables\n",
    "x = pd.get_dummies(x, columns=['sex', 'cp', 'fbs', 'restecg', 'exng', 'slp', 'caa', 'thall'], drop_first=True)"
   ]
  },
  {
   "cell_type": "code",
   "execution_count": 76,
   "id": "d660de80-e3d5-4fb5-8d27-6e2fde6eca80",
   "metadata": {},
   "outputs": [
    {
     "data": {
      "text/plain": [
       "Index(['age', 'trtbps', 'chol', 'thalachh', 'oldpeak', 'sex_1', 'cp_1', 'cp_2',\n",
       "       'cp_3', 'fbs_1', 'restecg_1', 'restecg_2', 'exng_1', 'slp_1', 'slp_2',\n",
       "       'caa_1', 'caa_2', 'caa_3', 'caa_4', 'thall_1', 'thall_2', 'thall_3'],\n",
       "      dtype='object')"
      ]
     },
     "execution_count": 76,
     "metadata": {},
     "output_type": "execute_result"
    }
   ],
   "source": [
    "x.columns"
   ]
  },
  {
   "cell_type": "markdown",
   "id": "5e41b8ea-a19f-45e1-93cc-972cb56c7446",
   "metadata": {},
   "source": [
    "### 5.\tSplit le dataset"
   ]
  },
  {
   "cell_type": "markdown",
   "id": "0f14f767-319d-4d6f-b625-3c8a8e32d63a",
   "metadata": {},
   "source": [
    "#### a.\tDiviser le data set en training (80%) et en test (20%)"
   ]
  },
  {
   "cell_type": "code",
   "execution_count": 77,
   "id": "5313c8c9-a66d-448b-994d-a41ba7746850",
   "metadata": {},
   "outputs": [],
   "source": [
    "x_train, x_test, y_train, y_test = train_test_split(x, y, test_size=0.2, random_state=42)"
   ]
  },
  {
   "cell_type": "markdown",
   "id": "dc90eced-c67b-4a1d-8870-8140bc07b15b",
   "metadata": {},
   "source": [
    "### 6. \tModel"
   ]
  },
  {
   "cell_type": "markdown",
   "id": "ecdf4824-e981-4d20-ada8-f54c2cf932be",
   "metadata": {},
   "source": [
    "#### a.\tQuelle est la forme mathématique du modèle qui correspond à ce dataset ?"
   ]
  },
  {
   "cell_type": "markdown",
   "id": "4b4c7983-3f4b-449a-9a01-15f770412e53",
   "metadata": {},
   "source": [
    "#### b.\tEn se basant sur LogisticRegression, créer le modèle \n"
   ]
  },
  {
   "cell_type": "code",
   "execution_count": 78,
   "id": "2fc81889-0f7f-4a96-b232-8cce59a1e03b",
   "metadata": {},
   "outputs": [],
   "source": [
    "model = LogisticRegression(max_iter=1000)\n"
   ]
  },
  {
   "cell_type": "markdown",
   "id": "bc7652a7-4ef6-4139-8733-6ce72e5830a6",
   "metadata": {},
   "source": [
    "#### c.\tEntrainer le modèle"
   ]
  },
  {
   "cell_type": "code",
   "execution_count": null,
   "id": "e7b00069-dbc8-41b3-aafb-beebb6f94201",
   "metadata": {},
   "outputs": [],
   "source": [
    "model.fit(x_train, y_train)"
   ]
  },
  {
   "cell_type": "markdown",
   "id": "f7ae4930-5110-437b-8024-dceab2c38013",
   "metadata": {},
   "source": [
    "#### d.\tAfficher les paramètres du modèle"
   ]
  },
  {
   "cell_type": "code",
   "execution_count": 80,
   "id": "902a17f9-c7f8-4749-99d4-d1d72f5ddb96",
   "metadata": {},
   "outputs": [
    {
     "name": "stdout",
     "output_type": "stream",
     "text": [
      "[[ 0.00995507 -0.01671114 -0.00188629  0.0157984  -0.53510421 -1.16569858\n",
      "   0.4538182   1.31124099  1.34365482  0.3212367   0.33897175 -0.03364818\n",
      "  -0.82393654 -0.42828541  0.56232048 -1.6898486  -1.8572444  -1.04515146\n",
      "   0.46673626  0.22245681  0.52421113 -0.77064914]]\n",
      "[1.25787342]\n"
     ]
    }
   ],
   "source": [
    "print(model.coef_)\n",
    "print(model.intercept_)"
   ]
  },
  {
   "cell_type": "markdown",
   "id": "abaa0ae3-babe-41de-9c1b-c509ce5149dc",
   "metadata": {},
   "source": [
    "#### e.\tSur la base des paramètres du modèle trouvé, créer une fonction predict2 (X) capable de faire des prédictions"
   ]
  },
  {
   "cell_type": "code",
   "execution_count": 82,
   "id": "8fb5d640-ef53-4f53-9951-3672bf0474d3",
   "metadata": {},
   "outputs": [],
   "source": [
    "def predict2(x):\n",
    "    return model.predict(x)"
   ]
  },
  {
   "cell_type": "markdown",
   "id": "ea5dcd31-fe56-4f09-a2c6-d7a0f9f8d7f5",
   "metadata": {},
   "source": [
    "#### f.\tAfficher le résultat retourné par la fonction predict2 si on lui passe le X_test "
   ]
  },
  {
   "cell_type": "code",
   "execution_count": 84,
   "id": "8e568a73-30da-4d06-941f-ed5f7c46bebd",
   "metadata": {},
   "outputs": [
    {
     "name": "stdout",
     "output_type": "stream",
     "text": [
      "[0 0 1 0 1 1 1 0 0 1 1 0 1 0 1 1 1 0 0 0 0 0 0 1 1 1 1 1 0 1 0 0 0 0 1 0 1\n",
      " 1 1 1 1 1 1 1 1 0 0 1 0 0 0 0 1 1 0 0 0 1 0 0 0]\n"
     ]
    }
   ],
   "source": [
    "y_pred = predict2(x_test)\n",
    "print(y_pred)"
   ]
  },
  {
   "cell_type": "markdown",
   "id": "050b0d57-6377-45ff-a351-991e43a8c4c2",
   "metadata": {},
   "source": [
    "### 7.\tEvaluation du modèle"
   ]
  },
  {
   "cell_type": "markdown",
   "id": "5732ca74-fdbd-4d64-a967-b0d8c0ece0f3",
   "metadata": {},
   "source": [
    "#### a.\tQuelle est la valeur de mse du modèle ? Interpréter le résultat."
   ]
  },
  {
   "cell_type": "code",
   "execution_count": 85,
   "id": "e7fa38fe-3f4f-4544-aa30-1554d0dff3b3",
   "metadata": {},
   "outputs": [
    {
     "name": "stdout",
     "output_type": "stream",
     "text": [
      "Valeur de MSE : 0.09836065573770492\n"
     ]
    }
   ],
   "source": [
    "# Calcul de la valeur de mse\n",
    "mse = mean_squared_error(y_test, y_pred)\n",
    "print(f\"Valeur de MSE : {mse}\")\n"
   ]
  },
  {
   "cell_type": "markdown",
   "id": "3b71ddb1-3e25-45eb-8e68-18e304815ec5",
   "metadata": {},
   "source": [
    "#### b.\tEn utilisant sklearn, quelle est la valeur de r2 du modèle ? Interpréter le résultat."
   ]
  },
  {
   "cell_type": "code",
   "execution_count": 87,
   "id": "41e369b4-6e22-41d1-acb9-5794b695cfc4",
   "metadata": {},
   "outputs": [
    {
     "name": "stdout",
     "output_type": "stream",
     "text": [
      "Valeur de R2 : 0.6056034482758621\n"
     ]
    }
   ],
   "source": [
    "# Calcul de la valeur de r2\n",
    "r2 = r2_score(y_test, y_pred)\n",
    "print(f\"Valeur de R2 : {r2}\")"
   ]
  },
  {
   "cell_type": "markdown",
   "id": "0d0b1028-696d-497a-87c9-ea63589084d0",
   "metadata": {},
   "source": [
    "### Interprétation des résultats\n",
    " MSE : Un MSE plus faible indique que les prédictions sont plus proches des valeurs réelles.\n",
    " \n",
    " R2 : La valeur de R2 indique la proportion de la variance expliquée par le modèle. Un R2 proche de 1 indique un bon modèle."
   ]
  },
  {
   "cell_type": "markdown",
   "id": "01010cab-92a9-466f-900a-9083a8b03515",
   "metadata": {},
   "source": [
    "#### c.\tSans utiliser sklearn, créer une fonction capable de calculer r2 et mse et les retourner"
   ]
  },
  {
   "cell_type": "code",
   "execution_count": 88,
   "id": "d490f1e4-b8c6-42bb-a296-6234352f7d85",
   "metadata": {},
   "outputs": [],
   "source": [
    "# Calcul manuel de MSE et R2\n",
    "def calculate_mse(y_true, y_pred):\n",
    "    return ((y_true - y_pred) ** 2).mean()"
   ]
  },
  {
   "cell_type": "code",
   "execution_count": 89,
   "id": "6977f7ff-f546-4bcc-b5e5-48c7db90018f",
   "metadata": {},
   "outputs": [],
   "source": [
    "def calculate_r2(y_true, y_pred):\n",
    "    ss_res = ((y_true - y_pred) ** 2).sum()\n",
    "    ss_tot = ((y_true - y_true.mean()) ** 2).sum()\n",
    "    return 1 - (ss_res / ss_tot)"
   ]
  },
  {
   "cell_type": "code",
   "execution_count": 90,
   "id": "155c5909-d900-43ce-a385-9a04442f11b1",
   "metadata": {},
   "outputs": [
    {
     "name": "stdout",
     "output_type": "stream",
     "text": [
      "Valeur de MSE (manuel) : 0.09836065573770492\n",
      "Valeur de R2 (manuel) : 0.6056034482758621\n"
     ]
    }
   ],
   "source": [
    "mse_manual = calculate_mse(y_test, y_pred)\n",
    "r2_manual = calculate_r2(y_test, y_pred)\n",
    "print(f\"Valeur de MSE (manuel) : {mse_manual}\")\n",
    "print(f\"Valeur de R2 (manuel) : {r2_manual}\")"
   ]
  },
  {
   "cell_type": "markdown",
   "id": "6dca260b-3b92-45b9-a979-00da4c9bf921",
   "metadata": {},
   "source": [
    "# Partie 2 :  création du modèle sans utiliser sklearn"
   ]
  },
  {
   "cell_type": "markdown",
   "id": "844631bf-11e2-467f-845a-bcfd097271ff",
   "metadata": {},
   "source": [
    "### 2.\tL’objectif est de créer notre propre fonction fit qui se base sur l’algorithme de gradient descent\n"
   ]
  },
  {
   "cell_type": "markdown",
   "id": "f89ca6e3-4e54-4626-a6c4-93536cc999a9",
   "metadata": {},
   "source": [
    "#### a.\tÉcrire le code source de cette fonction afin de trouver les paramètres du modèle"
   ]
  },
  {
   "cell_type": "code",
   "execution_count": 111,
   "id": "748132a5-2829-43fb-a9cd-a7cf1fd64a4d",
   "metadata": {},
   "outputs": [
    {
     "name": "stdout",
     "output_type": "stream",
     "text": [
      "[0 0 1 0 1 1 1 0 0 1 1 0 1 0 1 1 1 0 0 0 0 0 0 1 1 1 1 1 0 1 0 0 0 0 1 0 1\n",
      " 1 1 1 1 1 1 1 1 0 0 1 0 0 0 0 1 1 0 0 0 1 0 0 0]\n",
      "Accuracy: 0.9016393442622951\n",
      "Precision: 0.9333333333333333\n",
      "Recall: 0.875\n",
      "F1 Score: 0.9032258064516129\n",
      "Confusion Matrix: \n",
      "[[27  2]\n",
      " [ 4 28]]\n"
     ]
    },
    {
     "name": "stderr",
     "output_type": "stream",
     "text": [
      "C:\\Users\\mmourouh\\AppData\\Local\\Packages\\PythonSoftwareFoundation.Python.3.12_qbz5n2kfra8p0\\LocalCache\\local-packages\\Python312\\site-packages\\sklearn\\base.py:493: UserWarning: X does not have valid feature names, but LogisticRegression was fitted with feature names\n",
      "  warnings.warn(\n"
     ]
    },
    {
     "data": {
      "image/png": "[encoded data removed]",
      "text/plain": [
       "<Figure size 1000x700 with 2 Axes>"
      ]
     },
     "metadata": {},
     "output_type": "display_data"
    }
   ],
   "source": [
    "def predict2(X):\n",
    "    return model.predict(X)\n",
    "\n",
    "# Prédictions\n",
    "predictions = predict2(x_test)\n",
    "print(predictions)\n",
    "\n",
    "# Evaluation du modèle\n",
    "accuracy = accuracy_score(y_test, predictions)\n",
    "precision = precision_score(y_test, predictions)\n",
    "recall = recall_score(y_test, predictions)\n",
    "f1 = f1_score(y_test, predictions)\n",
    "cm = confusion_matrix(y_test, predictions)\n",
    "\n",
    "print(f\"Accuracy: {accuracy}\")\n",
    "print(f\"Precision: {precision}\")\n",
    "print(f\"Recall: {recall}\")\n",
    "print(f\"F1 Score: {f1}\")\n",
    "print(f\"Confusion Matrix: \\n{cm}\")\n",
    "\n",
    "# Visualiser la matrice de confusion\n",
    "plt.figure(figsize=(10, 7))\n",
    "sns.heatmap(cm, annot=True, fmt='d', cmap='Blues')\n",
    "plt.xlabel('Predicted')\n",
    "plt.ylabel('Actual')\n",
    "plt.title('Confusion Matrix')\n",
    "plt.show()"
   ]
  },
  {
   "cell_type": "code",
   "execution_count": null,
   "id": "8c5cf27f-4584-4ef1-99bf-f7e457c72b59",
   "metadata": {},
   "outputs": [],
   "source": []
  },
  {
   "cell_type": "code",
   "execution_count": null,
   "id": "f7071e0b-d667-4039-b64f-77472dd7c27a",
   "metadata": {},
   "outputs": [],
   "source": []
  },
  {
   "cell_type": "code",
   "execution_count": null,
   "id": "2b05a64c",
   "metadata": {},
   "outputs": [],
   "source": [
    "\n"
   ]
  }
 ],
 "metadata": {
  "kernelspec": {
   "display_name": "Python 3 (ipykernel)",
   "language": "python",
   "name": "python3"
  },
  "language_info": {
   "codemirror_mode": {
    "name": "ipython",
    "version": 3
   },
   "file_extension": ".py",
   "mimetype": "text/x-python",
   "name": "python",
   "nbconvert_exporter": "python",
   "pygments_lexer": "ipython3",
   "version": "3.12.4"
  }
 },
 "nbformat": 4,
 "nbformat_minor": 5
}
